{
 "cells": [
  {
   "metadata": {},
   "cell_type": "markdown",
   "source": [
    "# 4.Para la ingesta de datos se han obtenido los data frames del punto anterior como CSV\n",
    "\n",
    "Previamente se ha extraido una muestra de 100 filas de cada fichero con sus correspondientes **id_local** para que en el momento de hacer relaciones se mas breve el procesamiento"
   ],
   "id": "f1db755cef742439"
  },
  {
   "metadata": {},
   "cell_type": "markdown",
   "source": [
    "Los datos csv se han movido a la carpeta **import** que se encuentra en el directorio de trabajo de la base de datos que he creado llamada\n",
    "\n",
    "\n",
    "**nosql_pl**\n",
    "**C:\\Users\\DYLAN\\.Neo4jDesktop2\\Data\\dbmss\\dbms-ef84f6bd-32cb-4578-bf01-39d045763473\\import**"
   ],
   "id": "3e45a3a87c47c246"
  },
  {
   "metadata": {
    "ExecuteTime": {
     "end_time": "2025-06-26T15:11:00.729335Z",
     "start_time": "2025-06-26T15:10:59.541832Z"
    }
   },
   "cell_type": "code",
   "source": [
    "import pandas as pd\n",
    "from nbclient.jsonutil import json_clean\n",
    "\n",
    "# Cargar los CSVs\n",
    "alojamientos = pd.read_csv('data_files/data_files_depurados/alojamientos.csv')\n",
    "locales = pd.read_csv('data_files/data_files_depurados/locales.csv')\n",
    "terrazas = pd.read_csv('data_files/data_files_depurados/terrazas.csv')\n",
    "\n",
    "# 1. Sample aleatorio de 100 alojamientos (independiente)\n",
    "sample_alojamientos = alojamientos.sample(n=100, random_state=42)\n",
    "\n",
    "# 2. Encontrar ids comunes entre locales y terrazas\n",
    "ids_comunes = set(locales['id_local']).intersection(set(terrazas['id_local']))\n",
    "\n",
    "# 3. Filtrar locales y terrazas que compartan esos ids\n",
    "locales_filtrados = locales[locales['id_local'].isin(ids_comunes)]\n",
    "terrazas_filtradas = terrazas[terrazas['id_local'].isin(ids_comunes)]\n",
    "\n",
    "# 4. Obtener muestra coherente (por ejemplo, 100 filas) — si hay suficientes\n",
    "sample_locales = locales_filtrados.sample(n=100, random_state=42)\n",
    "sample_ids = sample_locales['id_local']\n",
    "sample_terrazas = terrazas_filtradas[terrazas_filtradas['id_local'].isin(sample_ids)]\n",
    "\n",
    "# Confirmamos que los id_local coinciden en ambos sample\n",
    "assert set(sample_terrazas['id_local']) == set(sample_locales['id_local'])\n",
    "\n",
    "# Resultado:\n",
    "# - sample_alojamientos: muestra de 100 filas\n",
    "# - sample_locales y sample_terrazas: muestra coherente con los mismos id_local\n",
    "\n",
    "# Guardar\n",
    "sample_alojamientos.to_csv('sample_alojamientos.csv', index=False)\n",
    "sample_locales.to_csv('sample_locales.csv', index=False)\n",
    "sample_terrazas.to_csv('sample_terrazas.csv', index=False)\n",
    "\n"
   ],
   "id": "f8aeea3222edba7a",
   "outputs": [],
   "execution_count": 2
  },
  {
   "metadata": {},
   "cell_type": "markdown",
   "source": [
    "```json\n",
    "LOAD CSV WITH HEADERS FROM 'file:///sample_locales.csv' AS row\n",
    "CREATE (:Local {\n",
    "  id_local: toInteger(row.id_local),\n",
    "  nombre: row.rotulo,\n",
    "  distrito: row.desc_distrito_local,\n",
    "  barrio: row.desc_barrio_local,\n",
    "  apertura: row.hora_apertura1,\n",
    "  cierre: row.hora_cierre1,\n",
    "  codigo_postal: row.cod_postal,\n",
    "  actividades: row.actividades\n",
    "});"
   ],
   "id": "f2ee9984117930cd"
  },
  {
   "metadata": {},
   "cell_type": "markdown",
   "source": [
    "```json\n",
    "LOAD CSV WITH HEADERS FROM 'file:///sample_terrazas.csv' AS row\n",
    "WITH row\n",
    "WHERE row.id_terraza IS NOT NULL\n",
    "CREATE (:Terraza {\n",
    "  id_terraza: toInteger(row.id_terraza),\n",
    "  superficie: toFloat(row.superficie_es),\n",
    "  situacion: row.desc_situacion_terraza,\n",
    "  ubicacion: row.desc_ubicacion_terraza,\n",
    "  mesas: toInteger(row.mesas_es),\n",
    "  sillas: toInteger(row.sillas_es),\n",
    "  fecha_licencia: row.fecha_confir_ult_decreto_resol\n",
    "});\n"
   ],
   "id": "5abf5b367f8e10"
  },
  {
   "metadata": {},
   "cell_type": "markdown",
   "source": [
    "## Importacon de Alojamientos\n",
    "```json\n",
    "LOAD CSV WITH HEADERS FROM 'file:///sample_alojamientos.csv' AS row\n",
    "CREATE (:Alojamiento {\n",
    "  id: toInteger(row.id),\n",
    "  nombre: row.name,\n",
    "  anfitrion_id: toInteger(row.host_id),\n",
    "  anfitrion_nombre: row.host_name,\n",
    "  distrito: row.desc_distrito_local,\n",
    "  barrio: row.desc_barrio_local,\n",
    "  latitud: toFloat(row.latitude),\n",
    "  longitud: toFloat(row.longitude),\n",
    "  tipo_habitacion: row.room_type,\n",
    "  precio: toInteger(row.price),\n",
    "  noches_minimas: toInteger(row.minimum_nights),\n",
    "  reseñas: toInteger(row.number_of_reviews),\n",
    "  ultima_reseña: row.last_review,\n",
    "  reseñas_mensuales: toFloat(row.reviews_per_month),\n",
    "  disponibilidad: toInteger(row.availability_365),\n",
    "  licencia: row.license\n",
    "});\n"
   ],
   "id": "e3a1b1af42e580df"
  },
  {
   "metadata": {},
   "cell_type": "markdown",
   "source": [
    "## Creacion de relacion entre TERRAZAS y LOCALES\n",
    "```json\n",
    "MATCH (t:Terraza), (l:Local)\n",
    "WHERE t.id_local = l.id_local\n",
    "MERGE (l)-[:TIENE_TERRAZA]->(t)"
   ],
   "id": "500f1f85cfb9122d"
  },
  {
   "metadata": {},
   "cell_type": "markdown",
   "source": [
    "## Creacion de los nodos BARRIO a partir de Locales\n",
    "```json\n",
    "LOAD CSV WITH HEADERS FROM 'file:///sample_locales.csv' AS row\n",
    "MERGE (:Barrio {nombre: row.desc_barrio_local});"
   ],
   "id": "42f8f650e0988c1b"
  },
  {
   "metadata": {},
   "cell_type": "markdown",
   "source": [
    "## Creacion de relaciones **Ubicado_en** desde AirBnB (alojamientos -> barrio)\n",
    "```json\n",
    "LOAD CSV WITH HEADERS FROM 'file:///sample_alojamientos.csv' AS row\n",
    "MATCH (a:Alojamiento {nombre: row.name})\n",
    "MATCH (b:Barrio {nombre: row.desc_barrio_local})\n",
    "MERGE (a)-[:Ubicado_en]->(b);\n"
   ],
   "id": "c3aab5a692333b8a"
  },
  {
   "metadata": {},
   "cell_type": "markdown",
   "source": [
    "## Creacion de relaciones **Ubicado_en** desde Locales (Local -> Barrio)\n",
    "```json\n",
    "LOAD CSV WITH HEADERS FROM 'file:///sample_locales.csv' AS row\n",
    "MATCH (l:Local {id_local: toInteger(row.id_local)})\n",
    "MATCH (b:Barrio {nombre: row.desc_barrio_local})\n",
    "MERGE (l)-[:Ubicado_en]->(b);\n"
   ],
   "id": "b5416823a72e9da"
  },
  {
   "metadata": {},
   "cell_type": "markdown",
   "source": [
    "## Crear relaciones Ubicado_en para terrazas (Terrazas -> Barrio)\n",
    "```json\n",
    "LOAD CSV WITH HEADERS FROM 'file:///sample_terrazas.csv' AS row\n",
    "MATCH (t:Terraza {id_local: toInteger(row.id_local)})\n",
    "MATCH (l:Local {id_local: toInteger(row.id_local)})-[:Ubicado_en]->(b:Barrio)\n",
    "MERGE (t)-[:Ubicado_en]->(b);\n"
   ],
   "id": "ad481b19fadfcbc3"
  },
  {
   "metadata": {},
   "cell_type": "markdown",
   "source": [
    "## Crear el atributo **distancia** en la relacion **Ubicado_en**\n",
    "```json\n",
    "MATCH ()-[r:Ubicado_en]->()\n",
    "SET r.distancia = round(rand() * 0.9 + 0.1, 2);\n"
   ],
   "id": "75c33f8fba62d9ce"
  },
  {
   "metadata": {},
   "cell_type": "markdown",
   "source": [
    "## Crear las relaciones **Cercano_a** y el atributo **distancia** con una restriccion\n",
    "\n"
   ],
   "id": "82d051263425d840"
  },
  {
   "metadata": {},
   "cell_type": "markdown",
   "source": [
    "## Cercano_a Local y Terraza\n",
    "```json\n",
    "MATCH (l:Local), (t:Terraza)\n",
    "WITH l, t, round(rand(), 2) AS distancia\n",
    "WHERE distancia <= 0.5\n",
    "MERGE (l)-[:Cercano_a {distancia: distancia}]->(t);\n"
   ],
   "id": "c019a8a4600a7a2c"
  },
  {
   "metadata": {},
   "cell_type": "markdown",
   "source": [
    "## Cercano_a Local y Alojamiento\n",
    "```json\n",
    "MATCH (l:Local), (a:Alojamiento)\n",
    "WITH l, a, round(rand(), 2) AS distancia\n",
    "WHERE distancia <= 0.5\n",
    "MERGE (l)-[:Cercano_a {distancia: distancia}]->(a);\n"
   ],
   "id": "ab511a6b199e977d"
  },
  {
   "metadata": {},
   "cell_type": "markdown",
   "source": [
    "## Cercano_a Terraza y Alojamiento\n",
    "```json\n",
    "MATCH (t:Terraza), (a:Alojamiento)\n",
    "WITH t, a, round(rand(), 2) AS distancia\n",
    "WHERE distancia <= 0.5\n",
    "MERGE (t)-[:Cercano_a {distancia: distancia}]->(a);\n"
   ],
   "id": "4a52f037deb5bf28"
  },
  {
   "metadata": {},
   "cell_type": "markdown",
   "source": "## Creacion de relacion **Relacion_con** y los atributos que pide el enunciado",
   "id": "6b0f9067359223cb"
  },
  {
   "metadata": {},
   "cell_type": "markdown",
   "source": [
    "```json\n",
    "MATCH (l:Local)\n",
    "WHERE l.actividades IS NOT NULL\n",
    "WITH l, apoc.convert.fromJsonList(l.actividades) AS acts\n",
    "SET l.actividad_principal = acts[0].desc_epigrafe\n",
    "\n",
    "\n"
   ],
   "id": "7717a6abe2df30d5"
  },
  {
   "metadata": {},
   "cell_type": "markdown",
   "source": [
    "```json\n",
    "MATCH (l1:Local), (l2:Local)\n",
    "WHERE l1.actividad_principal = l2.actividad_principal AND l1.nombre < l2.nombre\n",
    "MERGE (l1)-[:Relacionado_con {motivo: 'Misma actividad'}]->(l2);\n"
   ],
   "id": "28226045a007bb53"
  },
  {
   "metadata": {},
   "cell_type": "markdown",
   "source": "## QUERYS",
   "id": "e7fcd00c69e86cd5"
  },
  {
   "metadata": {},
   "cell_type": "markdown",
   "source": "## 2.1. Consulta todos los locales y terrazas del barrio “Salamanca”.\n",
   "id": "3c48ba859d7df3f8"
  },
  {
   "metadata": {
    "ExecuteTime": {
     "end_time": "2025-06-26T16:17:36.235550Z",
     "start_time": "2025-06-26T16:17:34.165503Z"
    }
   },
   "cell_type": "code",
   "source": [
    "from neo4j import GraphDatabase\n",
    "\n",
    "# Configura la conexión con tu base de datos Neo4j\n",
    "uri = \"bolt://localhost:7687\"\n",
    "user = \"neo4j\"\n",
    "password = \"100424Fer.\"  # Reemplaza por tu contraseña real\n",
    "\n",
    "# Crear el driver\n",
    "driver = GraphDatabase.driver(uri, auth=(user, password))\n",
    "\n",
    "# Define la consulta Cypher\n",
    "query = \"\"\"\n",
    "MATCH (b:Barrio {nombre: \"tetuan\"})<-[:Ubicado_en]-(n)\n",
    "WHERE n:Local OR n:Terraza\n",
    "RETURN n.nombre AS nombre, labels(n) AS tipo\n",
    "\"\"\"\n",
    "\n",
    "# Función para ejecutar la consulta\n",
    "def run_query(tx, query):\n",
    "    result = tx.run(query)\n",
    "    return [record.data() for record in result]\n",
    "\n",
    "# Ejecutar la consulta\n",
    "with driver.session() as session:\n",
    "    resultados = session.read_transaction(run_query, query)\n",
    "\n",
    "# Mostrar los resultados\n",
    "for fila in resultados:\n",
    "    print(fila)\n",
    "\n",
    "# Cerrar conexión\n",
    "driver.close()\n",
    "\n"
   ],
   "id": "b28aab0f2a351132",
   "outputs": [
    {
     "name": "stderr",
     "output_type": "stream",
     "text": [
      "C:\\Users\\DYLAN\\AppData\\Local\\Temp\\ipykernel_11260\\37816999.py:25: DeprecationWarning: read_transaction has been renamed to execute_read\n",
      "  resultados = session.read_transaction(run_query, query)\n"
     ]
    }
   ],
   "execution_count": 11
  },
  {
   "metadata": {},
   "cell_type": "markdown",
   "source": "## 2.2. Consulta los alojamientos cuyo precio supere los 100€.",
   "id": "848ed99d1e1271db"
  },
  {
   "metadata": {
    "ExecuteTime": {
     "end_time": "2025-06-26T16:17:50.113915Z",
     "start_time": "2025-06-26T16:17:48.039399Z"
    }
   },
   "cell_type": "code",
   "source": [
    "from neo4j import GraphDatabase\n",
    "\n",
    "# Datos de conexión\n",
    "uri = \"bolt://localhost:7687\"\n",
    "user = \"neo4j\"\n",
    "password = \"100424Fer.\"\n",
    "\n",
    "# Crear driver\n",
    "driver = GraphDatabase.driver(uri, auth=(user, password))\n",
    "\n",
    "# Consulta Cypher\n",
    "query = \"\"\"\n",
    "MATCH (a:Alojamiento)\n",
    "WHERE a.precio > 100\n",
    "RETURN a.nombre AS nombre, a.precio AS precio\n",
    "\"\"\"\n",
    "\n",
    "# Función para ejecutar consulta\n",
    "def run_query(tx, query):\n",
    "    result = tx.run(query)\n",
    "    return [record.data() for record in result]\n",
    "\n",
    "# Ejecutar y mostrar resultados\n",
    "with driver.session() as session:\n",
    "    resultados = session.read_transaction(run_query, query)\n",
    "\n",
    "# Mostrar en consola\n",
    "for fila in resultados:\n",
    "    print(fila)\n",
    "\n",
    "# Cerrar conexión\n",
    "driver.close()\n"
   ],
   "id": "a75035917a45588",
   "outputs": [
    {
     "name": "stderr",
     "output_type": "stream",
     "text": [
      "C:\\Users\\DYLAN\\AppData\\Local\\Temp\\ipykernel_11260\\3866369696.py:25: DeprecationWarning: read_transaction has been renamed to execute_read\n",
      "  resultados = session.read_transaction(run_query, query)\n"
     ]
    },
    {
     "name": "stdout",
     "output_type": "stream",
     "text": [
      "{'nombre': 'blueground | chamberi, doorman, nr school', 'precio': 171}\n",
      "{'nombre': 'apartamento entero en pleno centro de madrid 1-2', 'precio': 139}\n",
      "{'nombre': 'estudio con terraza en madrid centro', 'precio': 114}\n",
      "{'nombre': 'self check in covid free the bohemian la latina - heart of madrid', 'precio': 103}\n",
      "{'nombre': 'modern and bright duplex in la latina/plaza mayor', 'precio': 155}\n",
      "{'nombre': 'cibeles by skykey', 'precio': 173}\n",
      "{'nombre': 'piso moderno nuevo en chueca, centro de madrid.', 'precio': 174}\n",
      "{'nombre': 'nuevo departamento - salamanca', 'precio': 120}\n",
      "{'nombre': 'charming madrid plaza - en la plaza mayor', 'precio': 117}\n",
      "{'nombre': 'new! amazing luxurious apartment in madrid center', 'precio': 205}\n",
      "{'nombre': 'apartamento centro madrid malasaña m (mal27)', 'precio': 220}\n",
      "{'nombre': 'tajahri - 2 bedrooms in azca', 'precio': 137}\n",
      "{'nombre': '3 rooms apartment in puerta del sol', 'precio': 288}\n",
      "{'nombre': 'designer 2 room flat in malasaña by mantehouse', 'precio': 168}\n",
      "{'nombre': '1 bedroom apartment in la castellana', 'precio': 138}\n",
      "{'nombre': 'luxury pza mayor/la latina 2bd* 2bath*, 6p max', 'precio': 146}\n",
      "{'nombre': 'modern apartment in cuzco area', 'precio': 116}\n",
      "{'nombre': 'madrid urban getaway - 2br apartment', 'precio': 1503}\n",
      "{'nombre': 'bnbholder glam plaza españa', 'precio': 349}\n",
      "{'nombre': 'numa | medium studio with kitchenette in madrid', 'precio': 115}\n",
      "{'nombre': 'cc atocha apartment 3', 'precio': 167}\n",
      "{'nombre': 'elegante y confortable apto inmejorable zona', 'precio': 124}\n",
      "{'nombre': 'farmacia i', 'precio': 128}\n",
      "{'nombre': 'exclusivo apartamento en goya', 'precio': 250}\n",
      "{'nombre': 'lighting loft in madrid (la latina)', 'precio': 105}\n",
      "{'nombre': 'at home in madrid ix, trendy chueca, prado,granvia', 'precio': 183}\n",
      "{'nombre': 'apartamento de 1 habitación en el malasaña + cool.', 'precio': 107}\n",
      "{'nombre': 'apartamento en barrio salamanca', 'precio': 150}\n",
      "{'nombre': 'goya x', 'precio': 211}\n",
      "{'nombre': 'loft embajadores, 2rooms-2bathrooms', 'precio': 196}\n",
      "{'nombre': 'habitacion doble estandar', 'precio': 134}\n",
      "{'nombre': 'habitacion privada barrio salamanca', 'precio': 135}\n",
      "{'nombre': 'chueca spacious duplex for 6 wifi', 'precio': 117}\n"
     ]
    }
   ],
   "execution_count": 12
  },
  {
   "metadata": {},
   "cell_type": "markdown",
   "source": "## 2.3. Consulta los barrios donde los alojamientos no cuentan con dormitorios.",
   "id": "7e54115adad9ca8d"
  },
  {
   "metadata": {
    "ExecuteTime": {
     "end_time": "2025-06-26T16:19:22.311994Z",
     "start_time": "2025-06-26T16:19:20.264993Z"
    }
   },
   "cell_type": "code",
   "source": [
    "from neo4j import GraphDatabase\n",
    "import pandas as pd\n",
    "\n",
    "# Datos de conexión\n",
    "uri = \"bolt://localhost:7687\"\n",
    "user = \"neo4j\"\n",
    "password = \"100424Fer.\"\n",
    "\n",
    "# Crear driver\n",
    "driver = GraphDatabase.driver(uri, auth=(user, password))\n",
    "\n",
    "# Consulta Cypher\n",
    "query = \"\"\"\n",
    "MATCH (a:Alojamiento)-[:Ubicado_en]->(b:Barrio)\n",
    "WHERE a.numero_habitaciones = 1\n",
    "RETURN b.nombre AS barrio, COUNT(a) AS total_alojamientos\n",
    "\"\"\"\n",
    "\n",
    "# Función para ejecutar consulta\n",
    "def run_query(tx, query):\n",
    "    result = tx.run(query)\n",
    "    return [record.data() for record in result]\n",
    "\n",
    "# Ejecutar y mostrar resultados\n",
    "with driver.session() as session:\n",
    "    resultados = session.read_transaction(run_query, query)\n",
    "\n",
    "# Convertir a DataFrame y mostrar\n",
    "df = pd.DataFrame(resultados)\n",
    "print(df)\n",
    "\n",
    "# Cerrar conexión\n",
    "driver.close()\n"
   ],
   "id": "a442843bafbf8342",
   "outputs": [
    {
     "name": "stderr",
     "output_type": "stream",
     "text": [
      "C:\\Users\\DYLAN\\AppData\\Local\\Temp\\ipykernel_11260\\819170619.py:26: DeprecationWarning: read_transaction has been renamed to execute_read\n",
      "  resultados = session.read_transaction(run_query, query)\n",
      "Received notification from DBMS server: {severity: WARNING} {code: Neo.ClientNotification.Statement.UnknownPropertyKeyWarning} {category: UNRECOGNIZED} {title: The provided property key is not in the database} {description: One of the property names in your query is not available in the database, make sure you didn't misspell it or that the label is available when you run this statement in your application (the missing property name is: numero_habitaciones)} {position: line: 3, column: 9, offset: 57} for query: '\\nMATCH (a:Alojamiento)-[:Ubicado_en]->(b:Barrio)\\nWHERE a.numero_habitaciones = 1\\nRETURN b.nombre AS barrio, COUNT(a) AS total_alojamientos\\n'\n"
     ]
    },
    {
     "name": "stdout",
     "output_type": "stream",
     "text": [
      "Empty DataFrame\n",
      "Columns: []\n",
      "Index: []\n"
     ]
    }
   ],
   "execution_count": 14
  },
  {
   "metadata": {},
   "cell_type": "markdown",
   "source": "## 2.4. Consulta los barrios donde los alojamientos no cuentan con reseñas.\n",
   "id": "688e93f660b5e889"
  },
  {
   "metadata": {
    "ExecuteTime": {
     "end_time": "2025-06-26T16:20:51.731728Z",
     "start_time": "2025-06-26T16:20:49.653851Z"
    }
   },
   "cell_type": "code",
   "source": [
    "from neo4j import GraphDatabase\n",
    "import pandas as pd\n",
    "\n",
    "# Conexión a Neo4j\n",
    "uri = \"bolt://localhost:7687\"\n",
    "user = \"neo4j\"\n",
    "password = \"100424Fer.\"\n",
    "\n",
    "driver = GraphDatabase.driver(uri, auth=(user, password))\n",
    "\n",
    "# Consulta Cypher\n",
    "query = \"\"\"\n",
    "MATCH (a:Alojamiento)-[:Ubicado_en]->(b:Barrio)\n",
    "WHERE a.reseñas = 0\n",
    "RETURN b.nombre AS barrio, COUNT(a) AS total_alojamientos\n",
    "\"\"\"\n",
    "\n",
    "# Ejecutar la consulta\n",
    "def run_query(tx, query):\n",
    "    result = tx.run(query)\n",
    "    return [record.data() for record in result]\n",
    "\n",
    "with driver.session() as session:\n",
    "    results = session.read_transaction(run_query, query)\n",
    "\n",
    "df = pd.DataFrame(results)\n",
    "print(df)\n",
    "\n",
    "# Cerrar la conexión\n",
    "driver.close()\n"
   ],
   "id": "227666049d6d3021",
   "outputs": [
    {
     "name": "stderr",
     "output_type": "stream",
     "text": [
      "C:\\Users\\DYLAN\\AppData\\Local\\Temp\\ipykernel_11260\\1958932681.py:24: DeprecationWarning: read_transaction has been renamed to execute_read\n",
      "  results = session.read_transaction(run_query, query)\n"
     ]
    },
    {
     "name": "stdout",
     "output_type": "stream",
     "text": [
      "             barrio  total_alojamientos\n",
      "0  puerta del angel                   1\n",
      "1          justicia                   2\n",
      "2         trafalgar                   2\n",
      "3    cuatro caminos                   1\n",
      "4     valdeacederas                   1\n",
      "5       embajadores                   2\n",
      "6           acacias                   1\n",
      "7       universidad                   1\n",
      "8         recoletos                   1\n",
      "9              goya                   1\n"
     ]
    }
   ],
   "execution_count": 15
  },
  {
   "metadata": {},
   "cell_type": "markdown",
   "source": "## QUERYS FINALES",
   "id": "719521c76430019e"
  },
  {
   "metadata": {
    "ExecuteTime": {
     "end_time": "2025-06-26T16:22:07.310068Z",
     "start_time": "2025-06-26T16:22:01.366347Z"
    }
   },
   "cell_type": "code",
   "source": [
    "from neo4j import GraphDatabase\n",
    "import pandas as pd\n",
    "\n",
    "# Conexión\n",
    "uri = \"bolt://localhost:7687\"\n",
    "user = \"neo4j\"\n",
    "password = \"100424Fer.\"\n",
    "\n",
    "driver = GraphDatabase.driver(uri, auth=(user, password))\n",
    "\n",
    "# Consulta Cypher\n",
    "query = \"\"\"\n",
    "MATCH (n)-[r]->(m)\n",
    "RETURN n, type(r) AS relacion, r, m\n",
    "\"\"\"\n",
    "\n",
    "# Ejecutar la consulta\n",
    "def run_query(tx, query):\n",
    "    result = tx.run(query)\n",
    "    return [record.data() for record in result]\n",
    "\n",
    "with driver.session() as session:\n",
    "    results = session.read_transaction(run_query, query)\n",
    "\n",
    "# Convertimos los nodos a un DataFrame legible\n",
    "df = pd.DataFrame([{\n",
    "    'nodo_origen': record['n'],\n",
    "    'relacion': record['relacion'],\n",
    "    'atributo_relacion': record['r'],\n",
    "    'nodo_destino': record['m']\n",
    "} for record in results])\n",
    "\n",
    "pd.set_option('display.max_colwidth', None)\n",
    "print(df)\n",
    "\n",
    "driver.close()\n"
   ],
   "id": "6af0ff21b7005046",
   "outputs": [
    {
     "name": "stderr",
     "output_type": "stream",
     "text": [
      "C:\\Users\\DYLAN\\AppData\\Local\\Temp\\ipykernel_11260\\4186212254.py:23: DeprecationWarning: read_transaction has been renamed to execute_read\n",
      "  results = session.read_transaction(run_query, query)\n"
     ]
    },
    {
     "name": "stdout",
     "output_type": "stream",
     "text": [
      "                                                                                                                                                                                                                                                                                                                                                                     nodo_origen  \\\n",
      "0      {'distrito': 'chamartin', 'cierre': '00:00:00', 'barrio': 'el viso', 'codigo_postal': '28036', 'id_local': 50002004, 'actividades': '[{'id_seccion': 'i', 'desc_seccion': 'hostelería', 'id_division': '56', 'desc_division': 'servicios de comidas y bebidas', 'id_epigrafe': '561001', 'desc_epigrafe': 'restaurante'}]', 'nombre': 'pomodoro', 'apertura': '00:00:00'}   \n",
      "1      {'distrito': 'chamartin', 'cierre': '00:00:00', 'barrio': 'el viso', 'codigo_postal': '28036', 'id_local': 50002004, 'actividades': '[{'id_seccion': 'i', 'desc_seccion': 'hostelería', 'id_division': '56', 'desc_division': 'servicios de comidas y bebidas', 'id_epigrafe': '561001', 'desc_epigrafe': 'restaurante'}]', 'nombre': 'pomodoro', 'apertura': '00:00:00'}   \n",
      "2      {'distrito': 'chamartin', 'cierre': '00:00:00', 'barrio': 'el viso', 'codigo_postal': '28036', 'id_local': 50002004, 'actividades': '[{'id_seccion': 'i', 'desc_seccion': 'hostelería', 'id_division': '56', 'desc_division': 'servicios de comidas y bebidas', 'id_epigrafe': '561001', 'desc_epigrafe': 'restaurante'}]', 'nombre': 'pomodoro', 'apertura': '00:00:00'}   \n",
      "3      {'distrito': 'chamartin', 'cierre': '00:00:00', 'barrio': 'el viso', 'codigo_postal': '28036', 'id_local': 50002004, 'actividades': '[{'id_seccion': 'i', 'desc_seccion': 'hostelería', 'id_division': '56', 'desc_division': 'servicios de comidas y bebidas', 'id_epigrafe': '561001', 'desc_epigrafe': 'restaurante'}]', 'nombre': 'pomodoro', 'apertura': '00:00:00'}   \n",
      "4      {'distrito': 'chamartin', 'cierre': '00:00:00', 'barrio': 'el viso', 'codigo_postal': '28036', 'id_local': 50002004, 'actividades': '[{'id_seccion': 'i', 'desc_seccion': 'hostelería', 'id_division': '56', 'desc_division': 'servicios de comidas y bebidas', 'id_epigrafe': '561001', 'desc_epigrafe': 'restaurante'}]', 'nombre': 'pomodoro', 'apertura': '00:00:00'}   \n",
      "...                                                                                                                                                                                                                                                                                                                                                                          ...   \n",
      "15610                                                                                                                                                                                                                                                                                     {'estado_licencia': 'abierta', 'id_local': 30001302, 'nombre': 'num', 'capacidad': 24}   \n",
      "15611                                                                                                                                                                                                                                                                                     {'estado_licencia': 'abierta', 'id_local': 30001302, 'nombre': 'num', 'capacidad': 24}   \n",
      "15612                                                                                                                                                                                                                                                                                     {'estado_licencia': 'abierta', 'id_local': 30001302, 'nombre': 'num', 'capacidad': 24}   \n",
      "15613                                                                                                                                                                                                                                                                                     {'estado_licencia': 'abierta', 'id_local': 30001302, 'nombre': 'num', 'capacidad': 24}   \n",
      "15614                                                                                                                                                                                                                                                                                     {'estado_licencia': 'abierta', 'id_local': 30001302, 'nombre': 'num', 'capacidad': 24}   \n",
      "\n",
      "            relacion  \\\n",
      "0         Ubicado_en   \n",
      "1      TIENE_TERRAZA   \n",
      "2          Cercano_a   \n",
      "3          Cercano_a   \n",
      "4          Cercano_a   \n",
      "...              ...   \n",
      "15610      Cercano_a   \n",
      "15611      Cercano_a   \n",
      "15612      Cercano_a   \n",
      "15613      Cercano_a   \n",
      "15614      Cercano_a   \n",
      "\n",
      "                                                                                                                                                                                                                                                                                                                                                                                                                                                                                                                                                                                                                                                                                                                                                                                                                             atributo_relacion  \\\n",
      "0                                                                                                                                                                                                                                                                                                                                                                                                                               ({'distrito': 'chamartin', 'cierre': '00:00:00', 'barrio': 'el viso', 'codigo_postal': '28036', 'id_local': 50002004, 'actividades': '[{'id_seccion': 'i', 'desc_seccion': 'hostelería', 'id_division': '56', 'desc_division': 'servicios de comidas y bebidas', 'id_epigrafe': '561001', 'desc_epigrafe': 'restaurante'}]', 'nombre': 'pomodoro', 'apertura': '00:00:00'}, Ubicado_en, {'nombre': 'el viso'})   \n",
      "1                                                                                                                                                                                                                                                                                                                                                           ({'distrito': 'chamartin', 'cierre': '00:00:00', 'barrio': 'el viso', 'codigo_postal': '28036', 'id_local': 50002004, 'actividades': '[{'id_seccion': 'i', 'desc_seccion': 'hostelería', 'id_division': '56', 'desc_division': 'servicios de comidas y bebidas', 'id_epigrafe': '561001', 'desc_epigrafe': 'restaurante'}]', 'nombre': 'pomodoro', 'apertura': '00:00:00'}, TIENE_TERRAZA, {'estado_licencia': 'abierta', 'id_local': 50002004, 'nombre': 'num', 'capacidad': 32})   \n",
      "2                                                          ({'distrito': 'chamartin', 'cierre': '00:00:00', 'barrio': 'el viso', 'codigo_postal': '28036', 'id_local': 50002004, 'actividades': '[{'id_seccion': 'i', 'desc_seccion': 'hostelería', 'id_division': '56', 'desc_division': 'servicios de comidas y bebidas', 'id_epigrafe': '561001', 'desc_epigrafe': 'restaurante'}]', 'nombre': 'pomodoro', 'apertura': '00:00:00'}, Cercano_a, {'distrito': 'arganzuela', 'barrio': 'delicias', 'latitud': 40.39996, 'tipo_habitacion': 'private room', 'nombre': 'mi casa', 'anfitrion_nombre': 'milagros', 'noches_minimas': 5, 'precio': 45, 'longitud': -3.68571, 'ultima_reseña': '2024-11-03', 'disponibilidad': 170, 'licencia': 'no_license', 'anfitrion_id': 226533761, 'reseñas': 53, 'reseñas_mensuales': 0.71, 'id': 30150966})   \n",
      "3      ({'distrito': 'chamartin', 'cierre': '00:00:00', 'barrio': 'el viso', 'codigo_postal': '28036', 'id_local': 50002004, 'actividades': '[{'id_seccion': 'i', 'desc_seccion': 'hostelería', 'id_division': '56', 'desc_division': 'servicios de comidas y bebidas', 'id_epigrafe': '561001', 'desc_epigrafe': 'restaurante'}]', 'nombre': 'pomodoro', 'apertura': '00:00:00'}, Cercano_a, {'distrito': 'chamberí', 'barrio': 'arapiles', 'latitud': 40.4320818, 'tipo_habitacion': 'entire home/apt', 'nombre': 'blueground | chamberi, doorman, nr school', 'anfitrion_nombre': 'blueground', 'noches_minimas': 30, 'precio': 171, 'longitud': -3.7091021, 'ultima_reseña': '2024-08-13', 'disponibilidad': 146, 'licencia': 'no_license', 'anfitrion_id': 434208714, 'reseñas': 3, 'reseñas_mensuales': 0.32, 'id': 929432791376776480})   \n",
      "4                                                 ({'distrito': 'chamartin', 'cierre': '00:00:00', 'barrio': 'el viso', 'codigo_postal': '28036', 'id_local': 50002004, 'actividades': '[{'id_seccion': 'i', 'desc_seccion': 'hostelería', 'id_division': '56', 'desc_division': 'servicios de comidas y bebidas', 'id_epigrafe': '561001', 'desc_epigrafe': 'restaurante'}]', 'nombre': 'pomodoro', 'apertura': '00:00:00'}, Cercano_a, {'distrito': 'tetuán', 'barrio': 'bellas vistas', 'latitud': 40.4530676, 'tipo_habitacion': 'private room', 'nombre': '马德里的温馨公寓', 'anfitrion_nombre': 'sofía', 'noches_minimas': 1, 'precio': 0, 'longitud': -3.7064648, 'ultima_reseña': '2023-09-11', 'disponibilidad': 0, 'licencia': 'no_license', 'anfitrion_id': 522773633, 'reseñas': 1, 'reseñas_mensuales': 0.05, 'id': 943609117087283375})   \n",
      "...                                                                                                                                                                                                                                                                                                                                                                                                                                                                                                                                                                                                                                                                                                                                                                                                                                        ...   \n",
      "15610                                                                                                                                                                                                                                                                                                                ({'estado_licencia': 'abierta', 'id_local': 30001302, 'nombre': 'num', 'capacidad': 24}, Cercano_a, {'distrito': 'arganzuela', 'barrio': 'chopera', 'latitud': 40.3957, 'tipo_habitacion': 'private room', 'nombre': 'double central room. matadero.', 'anfitrion_nombre': 'julia', 'noches_minimas': 2, 'precio': 66, 'longitud': -3.69701, 'ultima_reseña': '2024-10-09', 'disponibilidad': 0, 'licencia': 'no_license', 'anfitrion_id': 33764591, 'reseñas': 28, 'reseñas_mensuales': 1.05, 'id': 789042306505926697})   \n",
      "15611                                                                                                                                                                                                                                                                                ({'estado_licencia': 'abierta', 'id_local': 30001302, 'nombre': 'num', 'capacidad': 24}, Cercano_a, {'distrito': 'tetuán', 'barrio': 'cuatro caminos', 'latitud': 40.4554702, 'tipo_habitacion': 'entire home/apt', 'nombre': 'bright studio and very well connected in bernabéu', 'anfitrion_nombre': 'iván', 'noches_minimas': 1, 'precio': 77, 'longitud': -3.6962144, 'ultima_reseña': '2025-01-16', 'disponibilidad': 347, 'licencia': 'no_license', 'anfitrion_id': 133056146, 'reseñas': 26, 'reseñas_mensuales': 1.32, 'id': 936633601639422130})   \n",
      "15612                                                                                                                                                                                                                                                                                     ({'estado_licencia': 'abierta', 'id_local': 30001302, 'nombre': 'num', 'capacidad': 24}, Cercano_a, {'distrito': 'latina', 'barrio': 'puerta del angel', 'latitud': 40.41362286743859, 'tipo_habitacion': 'private room', 'nombre': 'apartamento en puerta del angel', 'anfitrion_nombre': 'rafa', 'noches_minimas': 1, 'precio': 43, 'longitud': -3.730867335779327, 'ultima_reseña': '2025-03-02', 'disponibilidad': 86, 'licencia': 'no_license', 'anfitrion_id': 264795318, 'reseñas': 12, 'reseñas_mensuales': 0.71, 'id': 836819064999680359})   \n",
      "15613                                                                                                                                                                                                                                                                                                        ({'estado_licencia': 'abierta', 'id_local': 30001302, 'nombre': 'num', 'capacidad': 24}, Cercano_a, {'distrito': 'arganzuela', 'barrio': 'imperial', 'latitud': 40.40561, 'tipo_habitacion': 'private room', 'nombre': 'increíble habitación en el corazón de madrid', 'anfitrion_nombre': 'mauricio', 'noches_minimas': 1, 'precio': 0, 'longitud': -3.71308, 'ultima_reseña': '2018-12-23', 'disponibilidad': 0, 'licencia': 'no_license', 'anfitrion_id': 98683967, 'reseñas': 38, 'reseñas_mensuales': 0.41, 'id': 20221372})   \n",
      "15614                                                                                                                                                                                                                                                                                                        ({'estado_licencia': 'abierta', 'id_local': 30001302, 'nombre': 'num', 'capacidad': 24}, Cercano_a, {'distrito': 'centro', 'barrio': 'embajadores', 'latitud': 40.41281, 'tipo_habitacion': 'entire home/apt', 'nombre': 'm024 - apartment in cabeza', 'anfitrion_nombre': 'rodrigo', 'noches_minimas': 30, 'precio': 84, 'longitud': -3.70186, 'ultima_reseña': 'no_review_date', 'disponibilidad': 364, 'licencia': 'no_license', 'anfitrion_id': 471977881, 'reseñas': 0, 'reseñas_mensuales': 0.0, 'id': 933196613913722794})   \n",
      "\n",
      "                                                                                                                                                                                                                                                                                                                                                                                                                                               nodo_destino  \n",
      "0                                                                                                                                                                                                                                                                                                                                                                                                                                     {'nombre': 'el viso'}  \n",
      "1                                                                                                                                                                                                                                                                                                                                                                    {'estado_licencia': 'abierta', 'id_local': 50002004, 'nombre': 'num', 'capacidad': 32}  \n",
      "2                                                               {'distrito': 'arganzuela', 'barrio': 'delicias', 'latitud': 40.39996, 'tipo_habitacion': 'private room', 'nombre': 'mi casa', 'anfitrion_nombre': 'milagros', 'noches_minimas': 5, 'precio': 45, 'longitud': -3.68571, 'ultima_reseña': '2024-11-03', 'disponibilidad': 170, 'licencia': 'no_license', 'anfitrion_id': 226533761, 'reseñas': 53, 'reseñas_mensuales': 0.71, 'id': 30150966}  \n",
      "3           {'distrito': 'chamberí', 'barrio': 'arapiles', 'latitud': 40.4320818, 'tipo_habitacion': 'entire home/apt', 'nombre': 'blueground | chamberi, doorman, nr school', 'anfitrion_nombre': 'blueground', 'noches_minimas': 30, 'precio': 171, 'longitud': -3.7091021, 'ultima_reseña': '2024-08-13', 'disponibilidad': 146, 'licencia': 'no_license', 'anfitrion_id': 434208714, 'reseñas': 3, 'reseñas_mensuales': 0.32, 'id': 929432791376776480}  \n",
      "4                                                      {'distrito': 'tetuán', 'barrio': 'bellas vistas', 'latitud': 40.4530676, 'tipo_habitacion': 'private room', 'nombre': '马德里的温馨公寓', 'anfitrion_nombre': 'sofía', 'noches_minimas': 1, 'precio': 0, 'longitud': -3.7064648, 'ultima_reseña': '2023-09-11', 'disponibilidad': 0, 'licencia': 'no_license', 'anfitrion_id': 522773633, 'reseñas': 1, 'reseñas_mensuales': 0.05, 'id': 943609117087283375}  \n",
      "...                                                                                                                                                                                                                                                                                                                                                                                                                                                     ...  \n",
      "15610                                  {'distrito': 'arganzuela', 'barrio': 'chopera', 'latitud': 40.3957, 'tipo_habitacion': 'private room', 'nombre': 'double central room. matadero.', 'anfitrion_nombre': 'julia', 'noches_minimas': 2, 'precio': 66, 'longitud': -3.69701, 'ultima_reseña': '2024-10-09', 'disponibilidad': 0, 'licencia': 'no_license', 'anfitrion_id': 33764591, 'reseñas': 28, 'reseñas_mensuales': 1.05, 'id': 789042306505926697}  \n",
      "15611  {'distrito': 'tetuán', 'barrio': 'cuatro caminos', 'latitud': 40.4554702, 'tipo_habitacion': 'entire home/apt', 'nombre': 'bright studio and very well connected in bernabéu', 'anfitrion_nombre': 'iván', 'noches_minimas': 1, 'precio': 77, 'longitud': -3.6962144, 'ultima_reseña': '2025-01-16', 'disponibilidad': 347, 'licencia': 'no_license', 'anfitrion_id': 133056146, 'reseñas': 26, 'reseñas_mensuales': 1.32, 'id': 936633601639422130}  \n",
      "15612       {'distrito': 'latina', 'barrio': 'puerta del angel', 'latitud': 40.41362286743859, 'tipo_habitacion': 'private room', 'nombre': 'apartamento en puerta del angel', 'anfitrion_nombre': 'rafa', 'noches_minimas': 1, 'precio': 43, 'longitud': -3.730867335779327, 'ultima_reseña': '2025-03-02', 'disponibilidad': 86, 'licencia': 'no_license', 'anfitrion_id': 264795318, 'reseñas': 12, 'reseñas_mensuales': 0.71, 'id': 836819064999680359}  \n",
      "15613                          {'distrito': 'arganzuela', 'barrio': 'imperial', 'latitud': 40.40561, 'tipo_habitacion': 'private room', 'nombre': 'increíble habitación en el corazón de madrid', 'anfitrion_nombre': 'mauricio', 'noches_minimas': 1, 'precio': 0, 'longitud': -3.71308, 'ultima_reseña': '2018-12-23', 'disponibilidad': 0, 'licencia': 'no_license', 'anfitrion_id': 98683967, 'reseñas': 38, 'reseñas_mensuales': 0.41, 'id': 20221372}  \n",
      "15614                          {'distrito': 'centro', 'barrio': 'embajadores', 'latitud': 40.41281, 'tipo_habitacion': 'entire home/apt', 'nombre': 'm024 - apartment in cabeza', 'anfitrion_nombre': 'rodrigo', 'noches_minimas': 30, 'precio': 84, 'longitud': -3.70186, 'ultima_reseña': 'no_review_date', 'disponibilidad': 364, 'licencia': 'no_license', 'anfitrion_id': 471977881, 'reseñas': 0, 'reseñas_mensuales': 0.0, 'id': 933196613913722794}  \n",
      "\n",
      "[15615 rows x 4 columns]\n"
     ]
    }
   ],
   "execution_count": 16
  },
  {
   "metadata": {
    "ExecuteTime": {
     "end_time": "2025-06-26T16:23:26.656389Z",
     "start_time": "2025-06-26T16:23:24.581944Z"
    }
   },
   "cell_type": "code",
   "source": [
    "query_locales = \"\"\"\n",
    "MATCH (n:Local)\n",
    "RETURN n.nombre AS nombre, n.tipo_actividad AS tipo_actividad, n.horario AS horario, n.licencia AS licencia\n",
    "\"\"\"\n",
    "\n",
    "with driver.session() as session:\n",
    "    results_locales = session.run(query_locales)\n",
    "    df_locales = pd.DataFrame([record.data() for record in results_locales])\n",
    "\n",
    "print(df_locales)\n"
   ],
   "id": "5c96e4740c95b6a",
   "outputs": [
    {
     "name": "stderr",
     "output_type": "stream",
     "text": [
      "C:\\Users\\DYLAN\\AppData\\Local\\Temp\\ipykernel_11260\\188124446.py:6: DeprecationWarning: Using a driver after it has been closed is deprecated. Future versions of the driver will raise an error.\n",
      "  with driver.session() as session:\n",
      "Received notification from DBMS server: {severity: WARNING} {code: Neo.ClientNotification.Statement.UnknownPropertyKeyWarning} {category: UNRECOGNIZED} {title: The provided property key is not in the database} {description: One of the property names in your query is not available in the database, make sure you didn't misspell it or that the label is available when you run this statement in your application (the missing property name is: tipo_actividad)} {position: line: 3, column: 30, offset: 46} for query: '\\nMATCH (n:Local)\\nRETURN n.nombre AS nombre, n.tipo_actividad AS tipo_actividad, n.horario AS horario, n.licencia AS licencia\\n'\n",
      "Received notification from DBMS server: {severity: WARNING} {code: Neo.ClientNotification.Statement.UnknownPropertyKeyWarning} {category: UNRECOGNIZED} {title: The provided property key is not in the database} {description: One of the property names in your query is not available in the database, make sure you didn't misspell it or that the label is available when you run this statement in your application (the missing property name is: horario)} {position: line: 3, column: 66, offset: 82} for query: '\\nMATCH (n:Local)\\nRETURN n.nombre AS nombre, n.tipo_actividad AS tipo_actividad, n.horario AS horario, n.licencia AS licencia\\n'\n"
     ]
    },
    {
     "name": "stdout",
     "output_type": "stream",
     "text": [
      "                              nombre tipo_actividad horario licencia\n",
      "0                           pomodoro           None    None     None\n",
      "1                           el bombo           None    None     None\n",
      "2                     mama framboise           None    None     None\n",
      "3                          surrender           None    None     None\n",
      "4              el rinconcito de juan           None    None     None\n",
      "..                               ...            ...     ...      ...\n",
      "95  bar restaurante rincón de zamora           None    None     None\n",
      "96                             luigi           None    None     None\n",
      "97                    el quinto vino           None    None     None\n",
      "98                           bar eva           None    None     None\n",
      "99            bar restaurante caribe           None    None     None\n",
      "\n",
      "[100 rows x 4 columns]\n"
     ]
    }
   ],
   "execution_count": 17
  },
  {
   "metadata": {
    "ExecuteTime": {
     "end_time": "2025-06-26T16:23:34.545811Z",
     "start_time": "2025-06-26T16:23:34.503686Z"
    }
   },
   "cell_type": "code",
   "source": [
    "query_relaciones = \"\"\"\n",
    "MATCH (n)-[r:Ubicado_en]->(m:Barrio)\n",
    "RETURN n.nombre AS entidad, m.nombre AS barrio, r.distancia AS distancia\n",
    "\"\"\"\n",
    "\n",
    "with driver.session() as session:\n",
    "    results_relaciones = session.run(query_relaciones)\n",
    "    df_relaciones = pd.DataFrame([record.data() for record in results_relaciones])\n",
    "\n",
    "print(df_relaciones)\n"
   ],
   "id": "398baf716a60666b",
   "outputs": [
    {
     "name": "stdout",
     "output_type": "stream",
     "text": [
      "                      entidad         barrio  distancia\n",
      "0                    pomodoro        el viso       0.26\n",
      "1                    la pausa        el viso       0.21\n",
      "2                  café segre        el viso       0.39\n",
      "3                         num        el viso       0.52\n",
      "4                         num        el viso       0.25\n",
      "..                        ...            ...        ...\n",
      "261  bar paloma ii cerveceria         ventas       0.19\n",
      "262                       num         ventas       0.26\n",
      "263    bar restaurante caribe  bellas vistas       0.33\n",
      "264                  马德里的温馨公寓  bellas vistas       0.34\n",
      "265                       num  bellas vistas       0.38\n",
      "\n",
      "[266 rows x 3 columns]\n"
     ]
    },
    {
     "name": "stderr",
     "output_type": "stream",
     "text": [
      "C:\\Users\\DYLAN\\AppData\\Local\\Temp\\ipykernel_11260\\192982701.py:6: DeprecationWarning: Using a driver after it has been closed is deprecated. Future versions of the driver will raise an error.\n",
      "  with driver.session() as session:\n"
     ]
    }
   ],
   "execution_count": 18
  }
 ],
 "metadata": {
  "kernelspec": {
   "display_name": "Python 3",
   "language": "python",
   "name": "python3"
  },
  "language_info": {
   "codemirror_mode": {
    "name": "ipython",
    "version": 2
   },
   "file_extension": ".py",
   "mimetype": "text/x-python",
   "name": "python",
   "nbconvert_exporter": "python",
   "pygments_lexer": "ipython2",
   "version": "2.7.6"
  }
 },
 "nbformat": 4,
 "nbformat_minor": 5
}
