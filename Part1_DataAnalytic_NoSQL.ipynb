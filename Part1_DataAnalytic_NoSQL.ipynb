{
 "cells": [
  {
   "metadata": {},
   "cell_type": "markdown",
   "source": "# PART1",
   "id": "d2333a93788de037"
  },
  {
   "metadata": {},
   "cell_type": "markdown",
   "source": [
    "## 1. ESTUDIO PREVIO DE LOS ARCHIVOS\n",
    "En este apartado se realizarán comprobaciones para verificar que la información sobre los campos dada en los PDFs es correcta.\n",
    "Por ejemplo, el archivo 'actividadeseconomicas' puede tener campos repetidos, es decir, que ya se encuentran en el archivo 'locales'. Por lo que sería bastante eficiente eliminar esos campos duplicados, los cuales pueden ser unidos por su clave foranea ID_LOCAL en el futuro.\n",
    "Esto proporcionaría velocidad de consulta , ahorro de espacio y de computo a futuro."
   ],
   "id": "98d47359c1c5fdfb"
  },
  {
   "metadata": {
    "ExecuteTime": {
     "end_time": "2025-06-21T10:32:38.928379Z",
     "start_time": "2025-06-21T10:32:38.926305Z"
    }
   },
   "cell_type": "code",
   "source": [
    "#------------Dependencies-----------#\n",
    "import pandas as pd\n",
    "import numpy as np\n",
    "import os"
   ],
   "id": "631574cb81de5b47",
   "outputs": [],
   "execution_count": 16
  },
  {
   "metadata": {
    "ExecuteTime": {
     "end_time": "2025-06-21T10:32:38.959377Z",
     "start_time": "2025-06-21T10:32:38.956821Z"
    }
   },
   "cell_type": "code",
   "source": [
    "#Path to files\n",
    "path_actividad = \"data_files/actividadeconomica202312.csv\"\n",
    "path_licencias = \"data_files/licencias202312.csv\"\n",
    "path_locales = \"data_files/locales202312.csv\"\n",
    "path_terrazas = \"data_files/terrazas202312.csv\"\n"
   ],
   "id": "efab0152c0d51d1f",
   "outputs": [],
   "execution_count": 17
  },
  {
   "metadata": {},
   "cell_type": "markdown",
   "source": "**Dataframe creation 'Actividad Economica'**",
   "id": "6b06578ecf6671eb"
  },
  {
   "metadata": {
    "ExecuteTime": {
     "end_time": "2025-06-21T10:32:43.076903Z",
     "start_time": "2025-06-21T10:32:38.960617Z"
    }
   },
   "cell_type": "code",
   "source": [
    "df_actividad = pd.read_csv(\n",
    "    path_actividad,\n",
    "    sep = \";\",\n",
    "    skip_blank_lines = True,\n",
    "    on_bad_lines = 'skip',\n",
    "    engine = 'python',\n",
    "    encoding = 'utf-8'\n",
    ")"
   ],
   "id": "977bec0cf468530b",
   "outputs": [],
   "execution_count": 18
  },
  {
   "metadata": {},
   "cell_type": "markdown",
   "source": "**Dataframe creation 'Licencias'**",
   "id": "3810fe311b6a5b5a"
  },
  {
   "metadata": {
    "ExecuteTime": {
     "end_time": "2025-06-21T10:32:47.133674Z",
     "start_time": "2025-06-21T10:32:43.077831Z"
    }
   },
   "cell_type": "code",
   "source": "df_licencias = pd.read_csv(path_actividad,sep = \";\",skip_blank_lines = True,on_bad_lines = 'skip',engine = 'python',  encoding = 'utf-8')",
   "id": "7500a045917de4b3",
   "outputs": [],
   "execution_count": 19
  },
  {
   "metadata": {},
   "cell_type": "markdown",
   "source": "**Dataframe creation 'Locales'**",
   "id": "636b69708e2ef5a2"
  },
  {
   "metadata": {
    "ExecuteTime": {
     "end_time": "2025-06-21T10:32:50.250687Z",
     "start_time": "2025-06-21T10:32:47.135096Z"
    }
   },
   "cell_type": "code",
   "source": "df_locales = pd.read_csv(path_locales,sep = \";\",skip_blank_lines = True,on_bad_lines = 'skip',engine = 'python',  encoding = 'utf-8')",
   "id": "e32bc697ef9b52cd",
   "outputs": [],
   "execution_count": 20
  },
  {
   "metadata": {},
   "cell_type": "markdown",
   "source": "**Dataframe creation 'Terrazas'**",
   "id": "f58e8759237bae78"
  },
  {
   "metadata": {
    "ExecuteTime": {
     "end_time": "2025-06-21T10:32:50.439797Z",
     "start_time": "2025-06-21T10:32:50.251499Z"
    }
   },
   "cell_type": "code",
   "source": "df_terrazas = pd.read_csv(path_terrazas,sep = \";\",skip_blank_lines = True,on_bad_lines = 'skip',engine = 'python',  encoding = 'utf-8')",
   "id": "63cf3e327b085b76",
   "outputs": [],
   "execution_count": 21
  },
  {
   "metadata": {},
   "cell_type": "markdown",
   "source": "## 1.1 CAMPOS DUPLICADOS",
   "id": "953b472683563053"
  },
  {
   "metadata": {},
   "cell_type": "markdown",
   "source": "**Locales vs Actividades**",
   "id": "ea1abee1eecd19fb"
  },
  {
   "metadata": {
    "ExecuteTime": {
     "end_time": "2025-06-21T10:32:50.449541Z",
     "start_time": "2025-06-21T10:32:50.440528Z"
    }
   },
   "cell_type": "code",
   "source": [
    "#Query por 'id_local'\n",
    "resultado = df_locales.query(\"id_local == 20000756\")\n",
    "resultado.id_local,resultado.coordenada_y_local,resultado.id_tipo_acceso_local,resultado.id_tipo_acceso_local"
   ],
   "id": "5441a3b17d6fbbad",
   "outputs": [
    {
     "data": {
      "text/plain": [
       "(6    20000756\n",
       " Name: id_local, dtype: int64,\n",
       " 6    4472755.5\n",
       " Name: coordenada_y_local, dtype: float64,\n",
       " 6    1\n",
       " Name: id_tipo_acceso_local, dtype: int64,\n",
       " 6    1\n",
       " Name: id_tipo_acceso_local, dtype: int64)"
      ]
     },
     "execution_count": 22,
     "metadata": {},
     "output_type": "execute_result"
    }
   ],
   "execution_count": 22
  },
  {
   "metadata": {
    "ExecuteTime": {
     "end_time": "2025-06-21T10:32:50.458960Z",
     "start_time": "2025-06-21T10:32:50.450539Z"
    }
   },
   "cell_type": "code",
   "source": [
    "#Query por 'id_local'\n",
    "resultado = df_actividad.query(\"id_local == 20000756\")\n",
    "resultado.id_local,resultado.coordenada_y_local,resultado.id_tipo_acceso_local,resultado.id_tipo_acceso_local"
   ],
   "id": "a235473fba30a737",
   "outputs": [
    {
     "data": {
      "text/plain": [
       "(6515    20000756\n",
       " Name: id_local, dtype: int64,\n",
       " 6515    4472755.5\n",
       " Name: coordenada_y_local, dtype: float64,\n",
       " 6515    1\n",
       " Name: id_tipo_acceso_local, dtype: int64,\n",
       " 6515    1\n",
       " Name: id_tipo_acceso_local, dtype: int64)"
      ]
     },
     "execution_count": 23,
     "metadata": {},
     "output_type": "execute_result"
    }
   ],
   "execution_count": 23
  },
  {
   "metadata": {
    "ExecuteTime": {
     "end_time": "2025-06-21T10:32:50.469648Z",
     "start_time": "2025-06-21T10:32:50.459673Z"
    }
   },
   "cell_type": "code",
   "source": [
    "#Query por 'id_local'\n",
    "resultado = df_terrazas.query(\"id_local == 20000756\")\n",
    "resultado.id_local,resultado.coordenada_y_local,resultado.id_tipo_acceso_local,resultado.id_tipo_acceso_local"
   ],
   "id": "c25a2a7409a4b780",
   "outputs": [
    {
     "data": {
      "text/plain": [
       "(5471    20000756\n",
       " Name: id_local, dtype: int64,\n",
       " 5471    4472755.5\n",
       " Name: coordenada_y_local, dtype: float64,\n",
       " 5471    1\n",
       " Name: id_tipo_acceso_local, dtype: int64,\n",
       " 5471    1\n",
       " Name: id_tipo_acceso_local, dtype: int64)"
      ]
     },
     "execution_count": 24,
     "metadata": {},
     "output_type": "execute_result"
    }
   ],
   "execution_count": 24
  },
  {
   "metadata": {},
   "cell_type": "markdown",
   "source": [
    "**Como se puede comprobar hay campos que tienen los datos repetidos en ambos archivos por lo que la información descrita en los PDFs es veraz**\n",
    "Lo que plantearé será dejar el dataframe \"locales\" como el archivo maestro y luego eliminaré de los demás archivos las dimensiones que posean datos repetidos, así solo quedarán los campos con información limpia y quedarán las futuras colecciones mejor estructuradas.\n",
    "\n",
    "En el caso en que se quieran realizar consultas de union de tablas el ID **id_local** servirá con clave foranea en las demás tablas."
   ],
   "id": "813787c81ad901e6"
  },
  {
   "metadata": {},
   "cell_type": "markdown",
   "source": "**Eliminacion de columnas con información duplicadas**",
   "id": "4264feecfee6da56"
  },
  {
   "metadata": {
    "ExecuteTime": {
     "end_time": "2025-06-21T10:32:50.513285Z",
     "start_time": "2025-06-21T10:32:50.470866Z"
    }
   },
   "cell_type": "code",
   "source": [
    "# 1. DataFrame de Locales (fuente principal)\n",
    "# No hacemos cambios en df_locales\n",
    "\n",
    "# 2. DataFrame de Actividades\n",
    "# Mantener solo campos únicos de actividades\n",
    "columnas_actividades = [\n",
    "    'id_local',  # clave de unión\n",
    "    'id_seccion', 'desc_seccion', 'id_division', 'desc_division',\n",
    "    'id_epigrafe', 'desc_epigrafe'\n",
    "]\n",
    "df_actividad = df_actividad[columnas_actividades]\n",
    "\n",
    "# 3. DataFrame de Licencias\n",
    "# Mantener solo campos únicos de licencias (pero no aparecen en el índice proporcionado)\n",
    "# Asumimos que deberían estar estas columnas basadas en los PDFs:\n",
    "columnas_licencias = [\n",
    "    'id_local',  # clave de unión\n",
    "    'ref_licencia', 'id_tipo_licencia', 'desc_tipo_licencia',\n",
    "    'ide_tipo_situacion_licencia', 'desc_tipo_situacion_licencia',\n",
    "    'Fecha_Dec_Lic'\n",
    "]\n",
    "# Filtramos solo las columnas que existan realmente\n",
    "columnas_licencias = [col for col in columnas_licencias if col in df_licencias.columns]\n",
    "df_licencias = df_licencias[columnas_licencias] if columnas_licencias else df_licencias[['id_local']]\n",
    "\n",
    "# 4. DataFrame de Terrazas\n",
    "# Mantener solo campos únicos de terrazas\n",
    "columnas_terrazas = [\n",
    "    'id_terraza', 'id_local',  # claves\n",
    "    'Superficie_ES', 'Superficie_RA', 'mesas_aux_es', 'mesas_aux_ra',\n",
    "    'mesas_es', 'mesas_ra', 'sillas_es', 'sillas_ra', 'hora_ini_LJ_es',\n",
    "    'hora_fin_LJ_es', 'hora_ini_LJ_ra', 'hora_fin_LJ_ra', 'hora_ini_VS_es',\n",
    "    'hora_fin_VS_es', 'hora_ini_VS_ra', 'hora_fin_VS_ra',\n",
    "    'desc_ubicacion_terraza', 'id_periodo_terraza', 'desc_periodo_terraza',\n",
    "    'id_situacion_terraza', 'desc_situacion_terraza'\n",
    "]\n",
    "df_terrazas = df_terrazas[columnas_terrazas]\n"
   ],
   "id": "f70a3a68311bd761",
   "outputs": [],
   "execution_count": 25
  },
  {
   "metadata": {},
   "cell_type": "markdown",
   "source": "## 1.2 Limpieza y análisis de los DF",
   "id": "c05bc1a794fdb833"
  },
  {
   "metadata": {},
   "cell_type": "markdown",
   "source": "### 1.2.1 DF_LOCALES",
   "id": "1be5a4999eec27f7"
  },
  {
   "metadata": {
    "ExecuteTime": {
     "end_time": "2025-06-21T11:23:47.971447Z",
     "start_time": "2025-06-21T11:23:47.668939Z"
    }
   },
   "cell_type": "code",
   "source": "df_locales.describe(include='all')",
   "id": "2255d9ad61873c91",
   "outputs": [
    {
     "data": {
      "text/plain": [
       "            id_local  id_distrito_local   desc_distrito_local  \\\n",
       "count   1.511620e+05      151162.000000                151162   \n",
       "unique           NaN                NaN                    21   \n",
       "top              NaN                NaN  CENTRO                 \n",
       "freq             NaN                NaN                 13440   \n",
       "mean    2.655094e+08           9.939661                   NaN   \n",
       "std     5.016712e+07           5.625185                   NaN   \n",
       "min     1.000000e+07           1.000000                   NaN   \n",
       "25%     2.704840e+08           5.000000                   NaN   \n",
       "50%     2.800378e+08          10.000000                   NaN   \n",
       "75%     2.850114e+08          15.000000                   NaN   \n",
       "max     3.000220e+08          21.000000                   NaN   \n",
       "\n",
       "        id_barrio_local     desc_barrio_local  cod_barrio_local  \\\n",
       "count     151162.000000                151162     151162.000000   \n",
       "unique              NaN                   131               NaN   \n",
       "top                 NaN  SAN ANDRES                         NaN   \n",
       "freq                NaN                  4092               NaN   \n",
       "mean         997.419001                   NaN          3.452925   \n",
       "std          562.402277                   NaN          1.862671   \n",
       "min          101.000000                   NaN          1.000000   \n",
       "25%          505.000000                   NaN          2.000000   \n",
       "50%         1004.000000                   NaN          3.000000   \n",
       "75%         1501.000000                   NaN          5.000000   \n",
       "max         2105.000000                   NaN          9.000000   \n",
       "\n",
       "        id_seccion_censal_local  desc_seccion_censal_local  \\\n",
       "count             151162.000000              151162.000000   \n",
       "unique                      NaN                        NaN   \n",
       "top                         NaN                        NaN   \n",
       "freq                        NaN                        NaN   \n",
       "mean               10011.069158                  71.408396   \n",
       "std                 5626.998295                  48.532575   \n",
       "min                 1001.000000                   1.000000   \n",
       "25%                 5085.000000                  32.000000   \n",
       "50%                10137.000000                  65.000000   \n",
       "75%                15041.000000                 104.000000   \n",
       "max                21034.000000                 222.000000   \n",
       "\n",
       "        coordenada_x_local  coordenada_y_local  ...  id_local_agrupado  \\\n",
       "count        151162.000000        1.511620e+05  ...              90445   \n",
       "unique                 NaN                 NaN  ...               3467   \n",
       "top                    NaN                 NaN  ...                 01   \n",
       "freq                   NaN                 NaN  ...              20570   \n",
       "mean         399836.581200        4.049711e+06  ...                NaN   \n",
       "std          129534.909558        1.311569e+06  ...                NaN   \n",
       "min               0.000000        0.000000e+00  ...                NaN   \n",
       "25%          439092.600000        4.470752e+06  ...                NaN   \n",
       "50%          440758.600000        4.473638e+06  ...                NaN   \n",
       "75%          443691.620000        4.476700e+06  ...                NaN   \n",
       "max          454736.530000        4.495496e+06  ...                NaN   \n",
       "\n",
       "               rotulo     cod_postal hora_apertura1  hora_apertura2  \\\n",
       "count          151162  151162.000000           8796             812   \n",
       "unique          80142            NaN             63              37   \n",
       "top     SIN ACTIVIDAD            NaN          08:00           10:00   \n",
       "freq            39418            NaN           1977             435   \n",
       "mean              NaN   28025.110689            NaN             NaN   \n",
       "std               NaN      14.277943            NaN             NaN   \n",
       "min               NaN   28001.000000            NaN             NaN   \n",
       "25%               NaN   28014.000000            NaN             NaN   \n",
       "50%               NaN   28025.000000            NaN             NaN   \n",
       "75%               NaN   28037.000000            NaN             NaN   \n",
       "max               NaN   28055.000000            NaN             NaN   \n",
       "\n",
       "       hora_cierre1 hora_cierre2                 fx_carga  fx_datos_ini  \\\n",
       "count          6311          862                   151162        151162   \n",
       "unique           56           34                      112             1   \n",
       "top           02:00        02:00  2023-12-08 07:01:00.937    2023-12-01   \n",
       "freq           3063          461                     2434        151162   \n",
       "mean            NaN          NaN                      NaN           NaN   \n",
       "std             NaN          NaN                      NaN           NaN   \n",
       "min             NaN          NaN                      NaN           NaN   \n",
       "25%             NaN          NaN                      NaN           NaN   \n",
       "50%             NaN          NaN                      NaN           NaN   \n",
       "75%             NaN          NaN                      NaN           NaN   \n",
       "max             NaN          NaN                      NaN           NaN   \n",
       "\n",
       "       fx_datos_fin  \n",
       "count        151162  \n",
       "unique            1  \n",
       "top      2023-12-01  \n",
       "freq         151162  \n",
       "mean            NaN  \n",
       "std             NaN  \n",
       "min             NaN  \n",
       "25%             NaN  \n",
       "50%             NaN  \n",
       "75%             NaN  \n",
       "max             NaN  \n",
       "\n",
       "[11 rows x 48 columns]"
      ],
      "text/html": [
       "<div>\n",
       "<style scoped>\n",
       "    .dataframe tbody tr th:only-of-type {\n",
       "        vertical-align: middle;\n",
       "    }\n",
       "\n",
       "    .dataframe tbody tr th {\n",
       "        vertical-align: top;\n",
       "    }\n",
       "\n",
       "    .dataframe thead th {\n",
       "        text-align: right;\n",
       "    }\n",
       "</style>\n",
       "<table border=\"1\" class=\"dataframe\">\n",
       "  <thead>\n",
       "    <tr style=\"text-align: right;\">\n",
       "      <th></th>\n",
       "      <th>id_local</th>\n",
       "      <th>id_distrito_local</th>\n",
       "      <th>desc_distrito_local</th>\n",
       "      <th>id_barrio_local</th>\n",
       "      <th>desc_barrio_local</th>\n",
       "      <th>cod_barrio_local</th>\n",
       "      <th>id_seccion_censal_local</th>\n",
       "      <th>desc_seccion_censal_local</th>\n",
       "      <th>coordenada_x_local</th>\n",
       "      <th>coordenada_y_local</th>\n",
       "      <th>...</th>\n",
       "      <th>id_local_agrupado</th>\n",
       "      <th>rotulo</th>\n",
       "      <th>cod_postal</th>\n",
       "      <th>hora_apertura1</th>\n",
       "      <th>hora_apertura2</th>\n",
       "      <th>hora_cierre1</th>\n",
       "      <th>hora_cierre2</th>\n",
       "      <th>fx_carga</th>\n",
       "      <th>fx_datos_ini</th>\n",
       "      <th>fx_datos_fin</th>\n",
       "    </tr>\n",
       "  </thead>\n",
       "  <tbody>\n",
       "    <tr>\n",
       "      <th>count</th>\n",
       "      <td>1.511620e+05</td>\n",
       "      <td>151162.000000</td>\n",
       "      <td>151162</td>\n",
       "      <td>151162.000000</td>\n",
       "      <td>151162</td>\n",
       "      <td>151162.000000</td>\n",
       "      <td>151162.000000</td>\n",
       "      <td>151162.000000</td>\n",
       "      <td>151162.000000</td>\n",
       "      <td>1.511620e+05</td>\n",
       "      <td>...</td>\n",
       "      <td>90445</td>\n",
       "      <td>151162</td>\n",
       "      <td>151162.000000</td>\n",
       "      <td>8796</td>\n",
       "      <td>812</td>\n",
       "      <td>6311</td>\n",
       "      <td>862</td>\n",
       "      <td>151162</td>\n",
       "      <td>151162</td>\n",
       "      <td>151162</td>\n",
       "    </tr>\n",
       "    <tr>\n",
       "      <th>unique</th>\n",
       "      <td>NaN</td>\n",
       "      <td>NaN</td>\n",
       "      <td>21</td>\n",
       "      <td>NaN</td>\n",
       "      <td>131</td>\n",
       "      <td>NaN</td>\n",
       "      <td>NaN</td>\n",
       "      <td>NaN</td>\n",
       "      <td>NaN</td>\n",
       "      <td>NaN</td>\n",
       "      <td>...</td>\n",
       "      <td>3467</td>\n",
       "      <td>80142</td>\n",
       "      <td>NaN</td>\n",
       "      <td>63</td>\n",
       "      <td>37</td>\n",
       "      <td>56</td>\n",
       "      <td>34</td>\n",
       "      <td>112</td>\n",
       "      <td>1</td>\n",
       "      <td>1</td>\n",
       "    </tr>\n",
       "    <tr>\n",
       "      <th>top</th>\n",
       "      <td>NaN</td>\n",
       "      <td>NaN</td>\n",
       "      <td>CENTRO</td>\n",
       "      <td>NaN</td>\n",
       "      <td>SAN ANDRES</td>\n",
       "      <td>NaN</td>\n",
       "      <td>NaN</td>\n",
       "      <td>NaN</td>\n",
       "      <td>NaN</td>\n",
       "      <td>NaN</td>\n",
       "      <td>...</td>\n",
       "      <td>01</td>\n",
       "      <td>SIN ACTIVIDAD</td>\n",
       "      <td>NaN</td>\n",
       "      <td>08:00</td>\n",
       "      <td>10:00</td>\n",
       "      <td>02:00</td>\n",
       "      <td>02:00</td>\n",
       "      <td>2023-12-08 07:01:00.937</td>\n",
       "      <td>2023-12-01</td>\n",
       "      <td>2023-12-01</td>\n",
       "    </tr>\n",
       "    <tr>\n",
       "      <th>freq</th>\n",
       "      <td>NaN</td>\n",
       "      <td>NaN</td>\n",
       "      <td>13440</td>\n",
       "      <td>NaN</td>\n",
       "      <td>4092</td>\n",
       "      <td>NaN</td>\n",
       "      <td>NaN</td>\n",
       "      <td>NaN</td>\n",
       "      <td>NaN</td>\n",
       "      <td>NaN</td>\n",
       "      <td>...</td>\n",
       "      <td>20570</td>\n",
       "      <td>39418</td>\n",
       "      <td>NaN</td>\n",
       "      <td>1977</td>\n",
       "      <td>435</td>\n",
       "      <td>3063</td>\n",
       "      <td>461</td>\n",
       "      <td>2434</td>\n",
       "      <td>151162</td>\n",
       "      <td>151162</td>\n",
       "    </tr>\n",
       "    <tr>\n",
       "      <th>mean</th>\n",
       "      <td>2.655094e+08</td>\n",
       "      <td>9.939661</td>\n",
       "      <td>NaN</td>\n",
       "      <td>997.419001</td>\n",
       "      <td>NaN</td>\n",
       "      <td>3.452925</td>\n",
       "      <td>10011.069158</td>\n",
       "      <td>71.408396</td>\n",
       "      <td>399836.581200</td>\n",
       "      <td>4.049711e+06</td>\n",
       "      <td>...</td>\n",
       "      <td>NaN</td>\n",
       "      <td>NaN</td>\n",
       "      <td>28025.110689</td>\n",
       "      <td>NaN</td>\n",
       "      <td>NaN</td>\n",
       "      <td>NaN</td>\n",
       "      <td>NaN</td>\n",
       "      <td>NaN</td>\n",
       "      <td>NaN</td>\n",
       "      <td>NaN</td>\n",
       "    </tr>\n",
       "    <tr>\n",
       "      <th>std</th>\n",
       "      <td>5.016712e+07</td>\n",
       "      <td>5.625185</td>\n",
       "      <td>NaN</td>\n",
       "      <td>562.402277</td>\n",
       "      <td>NaN</td>\n",
       "      <td>1.862671</td>\n",
       "      <td>5626.998295</td>\n",
       "      <td>48.532575</td>\n",
       "      <td>129534.909558</td>\n",
       "      <td>1.311569e+06</td>\n",
       "      <td>...</td>\n",
       "      <td>NaN</td>\n",
       "      <td>NaN</td>\n",
       "      <td>14.277943</td>\n",
       "      <td>NaN</td>\n",
       "      <td>NaN</td>\n",
       "      <td>NaN</td>\n",
       "      <td>NaN</td>\n",
       "      <td>NaN</td>\n",
       "      <td>NaN</td>\n",
       "      <td>NaN</td>\n",
       "    </tr>\n",
       "    <tr>\n",
       "      <th>min</th>\n",
       "      <td>1.000000e+07</td>\n",
       "      <td>1.000000</td>\n",
       "      <td>NaN</td>\n",
       "      <td>101.000000</td>\n",
       "      <td>NaN</td>\n",
       "      <td>1.000000</td>\n",
       "      <td>1001.000000</td>\n",
       "      <td>1.000000</td>\n",
       "      <td>0.000000</td>\n",
       "      <td>0.000000e+00</td>\n",
       "      <td>...</td>\n",
       "      <td>NaN</td>\n",
       "      <td>NaN</td>\n",
       "      <td>28001.000000</td>\n",
       "      <td>NaN</td>\n",
       "      <td>NaN</td>\n",
       "      <td>NaN</td>\n",
       "      <td>NaN</td>\n",
       "      <td>NaN</td>\n",
       "      <td>NaN</td>\n",
       "      <td>NaN</td>\n",
       "    </tr>\n",
       "    <tr>\n",
       "      <th>25%</th>\n",
       "      <td>2.704840e+08</td>\n",
       "      <td>5.000000</td>\n",
       "      <td>NaN</td>\n",
       "      <td>505.000000</td>\n",
       "      <td>NaN</td>\n",
       "      <td>2.000000</td>\n",
       "      <td>5085.000000</td>\n",
       "      <td>32.000000</td>\n",
       "      <td>439092.600000</td>\n",
       "      <td>4.470752e+06</td>\n",
       "      <td>...</td>\n",
       "      <td>NaN</td>\n",
       "      <td>NaN</td>\n",
       "      <td>28014.000000</td>\n",
       "      <td>NaN</td>\n",
       "      <td>NaN</td>\n",
       "      <td>NaN</td>\n",
       "      <td>NaN</td>\n",
       "      <td>NaN</td>\n",
       "      <td>NaN</td>\n",
       "      <td>NaN</td>\n",
       "    </tr>\n",
       "    <tr>\n",
       "      <th>50%</th>\n",
       "      <td>2.800378e+08</td>\n",
       "      <td>10.000000</td>\n",
       "      <td>NaN</td>\n",
       "      <td>1004.000000</td>\n",
       "      <td>NaN</td>\n",
       "      <td>3.000000</td>\n",
       "      <td>10137.000000</td>\n",
       "      <td>65.000000</td>\n",
       "      <td>440758.600000</td>\n",
       "      <td>4.473638e+06</td>\n",
       "      <td>...</td>\n",
       "      <td>NaN</td>\n",
       "      <td>NaN</td>\n",
       "      <td>28025.000000</td>\n",
       "      <td>NaN</td>\n",
       "      <td>NaN</td>\n",
       "      <td>NaN</td>\n",
       "      <td>NaN</td>\n",
       "      <td>NaN</td>\n",
       "      <td>NaN</td>\n",
       "      <td>NaN</td>\n",
       "    </tr>\n",
       "    <tr>\n",
       "      <th>75%</th>\n",
       "      <td>2.850114e+08</td>\n",
       "      <td>15.000000</td>\n",
       "      <td>NaN</td>\n",
       "      <td>1501.000000</td>\n",
       "      <td>NaN</td>\n",
       "      <td>5.000000</td>\n",
       "      <td>15041.000000</td>\n",
       "      <td>104.000000</td>\n",
       "      <td>443691.620000</td>\n",
       "      <td>4.476700e+06</td>\n",
       "      <td>...</td>\n",
       "      <td>NaN</td>\n",
       "      <td>NaN</td>\n",
       "      <td>28037.000000</td>\n",
       "      <td>NaN</td>\n",
       "      <td>NaN</td>\n",
       "      <td>NaN</td>\n",
       "      <td>NaN</td>\n",
       "      <td>NaN</td>\n",
       "      <td>NaN</td>\n",
       "      <td>NaN</td>\n",
       "    </tr>\n",
       "    <tr>\n",
       "      <th>max</th>\n",
       "      <td>3.000220e+08</td>\n",
       "      <td>21.000000</td>\n",
       "      <td>NaN</td>\n",
       "      <td>2105.000000</td>\n",
       "      <td>NaN</td>\n",
       "      <td>9.000000</td>\n",
       "      <td>21034.000000</td>\n",
       "      <td>222.000000</td>\n",
       "      <td>454736.530000</td>\n",
       "      <td>4.495496e+06</td>\n",
       "      <td>...</td>\n",
       "      <td>NaN</td>\n",
       "      <td>NaN</td>\n",
       "      <td>28055.000000</td>\n",
       "      <td>NaN</td>\n",
       "      <td>NaN</td>\n",
       "      <td>NaN</td>\n",
       "      <td>NaN</td>\n",
       "      <td>NaN</td>\n",
       "      <td>NaN</td>\n",
       "      <td>NaN</td>\n",
       "    </tr>\n",
       "  </tbody>\n",
       "</table>\n",
       "<p>11 rows × 48 columns</p>\n",
       "</div>"
      ]
     },
     "execution_count": 35,
     "metadata": {},
     "output_type": "execute_result"
    }
   ],
   "execution_count": 35
  },
  {
   "metadata": {
    "ExecuteTime": {
     "end_time": "2025-06-21T11:01:24.742092Z",
     "start_time": "2025-06-21T11:01:24.645880Z"
    }
   },
   "cell_type": "code",
   "source": [
    "#Revisión general del data frame\n",
    "print(df_locales.info())"
   ],
   "id": "b6279b7f0e958f38",
   "outputs": [
    {
     "name": "stdout",
     "output_type": "stream",
     "text": [
      "<class 'pandas.core.frame.DataFrame'>\n",
      "RangeIndex: 151162 entries, 0 to 151161\n",
      "Data columns (total 48 columns):\n",
      " #   Column                     Non-Null Count   Dtype  \n",
      "---  ------                     --------------   -----  \n",
      " 0   id_local                   151162 non-null  int64  \n",
      " 1   id_distrito_local          151162 non-null  int64  \n",
      " 2   desc_distrito_local        151162 non-null  object \n",
      " 3   id_barrio_local            151162 non-null  int64  \n",
      " 4   desc_barrio_local          151162 non-null  object \n",
      " 5   cod_barrio_local           151162 non-null  int64  \n",
      " 6   id_seccion_censal_local    151162 non-null  int64  \n",
      " 7   desc_seccion_censal_local  151162 non-null  int64  \n",
      " 8   coordenada_x_local         151162 non-null  float64\n",
      " 9   coordenada_y_local         151162 non-null  float64\n",
      " 10  id_tipo_acceso_local       151162 non-null  int64  \n",
      " 11  desc_tipo_acceso_local     151162 non-null  object \n",
      " 12  id_situacion_local         151162 non-null  int64  \n",
      " 13  desc_situacion_local       151162 non-null  object \n",
      " 14  id_vial_edificio           151162 non-null  int64  \n",
      " 15  clase_vial_edificio        151162 non-null  object \n",
      " 16  desc_vial_edificio         151162 non-null  object \n",
      " 17  id_ndp_edificio            151162 non-null  int64  \n",
      " 18  id_clase_ndp_edificio      151162 non-null  int64  \n",
      " 19  nom_edificio               151162 non-null  object \n",
      " 20  num_edificio               151162 non-null  int64  \n",
      " 21  cal_edificio               151162 non-null  object \n",
      " 22  secuencial_local_PC        151162 non-null  int64  \n",
      " 23  id_vial_acceso             151162 non-null  int64  \n",
      " 24  clase_vial_acceso          151162 non-null  object \n",
      " 25  desc_vial_acceso           151162 non-null  object \n",
      " 26  id_ndp_acceso              151162 non-null  int64  \n",
      " 27  id_clase_ndp_acceso        151162 non-null  int64  \n",
      " 28  nom_acceso                 151162 non-null  object \n",
      " 29  num_acceso                 151162 non-null  int64  \n",
      " 30  cal_acceso                 151162 non-null  object \n",
      " 31  coordenada_x_agrupacion    14501 non-null   float64\n",
      " 32  coordenada_y_agrupacion    14501 non-null   float64\n",
      " 33  id_agrupacion              151162 non-null  int64  \n",
      " 34  nombre_agrupacion          151162 non-null  object \n",
      " 35  id_tipo_agrup              151162 non-null  int64  \n",
      " 36  desc_tipo_agrup            151162 non-null  object \n",
      " 37  id_planta_agrupado         149514 non-null  object \n",
      " 38  id_local_agrupado          90445 non-null   object \n",
      " 39  rotulo                     151162 non-null  object \n",
      " 40  cod_postal                 151162 non-null  int64  \n",
      " 41  hora_apertura1             8796 non-null    object \n",
      " 42  hora_apertura2             812 non-null     object \n",
      " 43  hora_cierre1               6311 non-null    object \n",
      " 44  hora_cierre2               862 non-null     object \n",
      " 45  fx_carga                   151162 non-null  object \n",
      " 46  fx_datos_ini               151162 non-null  object \n",
      " 47  fx_datos_fin               151162 non-null  object \n",
      "dtypes: float64(4), int64(20), object(24)\n",
      "memory usage: 55.4+ MB\n",
      "None\n"
     ]
    }
   ],
   "execution_count": 31
  },
  {
   "metadata": {},
   "cell_type": "markdown",
   "source": "**Es recomendable trabajar con Object en vez de Strings así que todas las columnas tienen formatos alineados con su tipo de contenido o de dato**",
   "id": "68e2864b400b500b"
  },
  {
   "metadata": {
    "ExecuteTime": {
     "end_time": "2025-06-21T10:34:53.253985Z",
     "start_time": "2025-06-21T10:34:53.158034Z"
    }
   },
   "cell_type": "code",
   "source": "print(df_locales.isnull().sum())",
   "id": "b7ec283304b98218",
   "outputs": [
    {
     "name": "stdout",
     "output_type": "stream",
     "text": [
      "id_local                          0\n",
      "id_distrito_local                 0\n",
      "desc_distrito_local               0\n",
      "id_barrio_local                   0\n",
      "desc_barrio_local                 0\n",
      "cod_barrio_local                  0\n",
      "id_seccion_censal_local           0\n",
      "desc_seccion_censal_local         0\n",
      "coordenada_x_local                0\n",
      "coordenada_y_local                0\n",
      "id_tipo_acceso_local              0\n",
      "desc_tipo_acceso_local            0\n",
      "id_situacion_local                0\n",
      "desc_situacion_local              0\n",
      "id_vial_edificio                  0\n",
      "clase_vial_edificio               0\n",
      "desc_vial_edificio                0\n",
      "id_ndp_edificio                   0\n",
      "id_clase_ndp_edificio             0\n",
      "nom_edificio                      0\n",
      "num_edificio                      0\n",
      "cal_edificio                      0\n",
      "secuencial_local_PC               0\n",
      "id_vial_acceso                    0\n",
      "clase_vial_acceso                 0\n",
      "desc_vial_acceso                  0\n",
      "id_ndp_acceso                     0\n",
      "id_clase_ndp_acceso               0\n",
      "nom_acceso                        0\n",
      "num_acceso                        0\n",
      "cal_acceso                        0\n",
      "coordenada_x_agrupacion      136661\n",
      "coordenada_y_agrupacion      136661\n",
      "id_agrupacion                     0\n",
      "nombre_agrupacion                 0\n",
      "id_tipo_agrup                     0\n",
      "desc_tipo_agrup                   0\n",
      "id_planta_agrupado             1648\n",
      "id_local_agrupado             60717\n",
      "rotulo                            0\n",
      "cod_postal                        0\n",
      "hora_apertura1               142366\n",
      "hora_apertura2               150350\n",
      "hora_cierre1                 144851\n",
      "hora_cierre2                 150300\n",
      "fx_carga                          0\n",
      "fx_datos_ini                      0\n",
      "fx_datos_fin                      0\n",
      "dtype: int64\n"
     ]
    }
   ],
   "execution_count": 30
  },
  {
   "metadata": {},
   "cell_type": "markdown",
   "source": [
    "#  Informe: Justificación de Valores Nulos en el Dataset `locales.csv`\n",
    "\n",
    "Este informe detalla las razones por las cuales la presencia de valores nulos en determinados campos del archivo `locales.csv` del Censo de Locales y Actividades del Ayuntamiento de Madrid es **esperable, coherente** y **estructuralmente justificada**.\n",
    "\n",
    "La documentación técnica consultada incluye:\n",
    "-  *Estructura_DS_FicheroCLA.pdf*\n",
    "-  *Estructura_DS_FicheroCLA_LICENCIAS_cp.pdf*\n",
    "-  *Estructura_DS_FicheroCLA_Terrazas_cp.pdf*\n",
    "\n",
    "---\n",
    "\n",
    "##  1. Campos de Agrupación\n",
    "\n",
    "Los campos relacionados con agrupaciones de locales (como centros comerciales, mercados, etc.) **solo aplican** a locales con tipo de acceso **\"Agrupado\"** (`id_tipo_acceso_local = 0`).\n",
    "\n",
    "| Campo | Nulos | Justificación |\n",
    "|-------|-------|---------------|\n",
    "| `coordenada_x_agrupacion`<br>`coordenada_y_agrupacion` | 136.661 | Solo se completan para locales agrupados. Los locales tipo \"Puerta de Calle\" o \"Asociado\" no deben tener estas coordenadas. |\n",
    "| `id_planta_agrupado` | 1.648 | Aplica solo a locales dentro de agrupaciones. |\n",
    "| `id_local_agrupado` | 60.717 | Solo se utiliza para identificar locales dentro de agrupaciones. |\n",
    "| `id_agrupacion`, `nombre_agrupacion`, `id_tipo_agrup`, `desc_tipo_agrup` | 0 (sin nulos) | Estos campos están presentes siempre, pero para locales no agrupados su valor será `\"SIN AGRUPACION\"` o `-1`, lo cual es correcto. |\n",
    "\n",
    " **Conclusión**: La mayoría de locales no están agrupados, por lo que la ausencia de valores en estos campos es completamente normal y coherente con la estructura del censo.\n",
    "\n",
    "---\n",
    "\n",
    "##  2. Campos de Horarios\n",
    "\n",
    "Los campos de apertura (`hora_apertura1`, `hora_apertura2`) están **condicionados por el tipo de actividad del local**.\n",
    "\n",
    "| Campo | Nulos | Justificación |\n",
    "|-------|-------|---------------|\n",
    "| `hora_apertura1` | 142.366 | Muchos locales (oficinas, almacenes, despachos) no tienen obligación de registrar horarios. |\n",
    "| `hora_apertura2` | 150.350 | No todos los locales operan en doble jornada o turno partido. |\n",
    "\n",
    " **Conclusión**: Estos campos dependen del tipo de uso del local y no son aplicables en todos los casos.\n",
    "\n",
    "---\n",
    "\n",
    "##  3. Campo `cal_acceso`\n",
    "\n",
    "| Campo | Nulos | Justificación |\n",
    "|-------|-------|---------------|\n",
    "| `cal_acceso` | 0 | Aunque no hay nulos, el contenido puede estar vacío cuando el número de acceso no requiere calificador (letras como A, B, DUP, etc.). Es opcional según la dirección. |\n",
    "\n",
    " **Conclusión**: La omisión de este dato no implica un error, sino la ausencia de un calificador aplicable.\n",
    "\n",
    "---\n",
    "\n",
    "##  Recomendación General\n",
    "\n",
    "Para cualquier análisis, se debe tener en cuenta que:\n",
    "- Los **valores nulos responden a la lógica del tipo de local**, su acceso, su agrupación y si tiene o no usos especiales (como terrazas o licencias).\n",
    "- **No deben imputarse ni eliminarse automáticamente**, sino gestionarse según el contexto semántico de cada variable.\n",
    "\n",
    "---\n"
   ],
   "id": "16d22eb244f9c743"
  },
  {
   "metadata": {
    "ExecuteTime": {
     "end_time": "2025-06-21T11:07:07.349945Z",
     "start_time": "2025-06-21T11:07:07.346405Z"
    }
   },
   "cell_type": "code",
   "source": [
    "#Comprobación de la calidad de los Nulos.\n",
    "print(df_locales['id_tipo_acceso_local'].value_counts())"
   ],
   "id": "6b429c85e7ae205",
   "outputs": [
    {
     "name": "stdout",
     "output_type": "stream",
     "text": [
      "id_tipo_acceso_local\n",
      "1     134010\n",
      "0      14501\n",
      "12      2651\n",
      "Name: count, dtype: int64\n"
     ]
    }
   ],
   "execution_count": 32
  },
  {
   "metadata": {
    "ExecuteTime": {
     "end_time": "2025-06-21T11:07:12.122461Z",
     "start_time": "2025-06-21T11:07:12.110752Z"
    }
   },
   "cell_type": "code",
   "source": [
    "agrupados = df_locales[df_locales['id_tipo_acceso_local'] == 0]\n",
    "print(agrupados[['coordenada_x_agrupacion', 'id_planta_agrupado']].isnull().sum())"
   ],
   "id": "39916a3631cc0bc7",
   "outputs": [
    {
     "name": "stdout",
     "output_type": "stream",
     "text": [
      "coordenada_x_agrupacion      0\n",
      "id_planta_agrupado         989\n",
      "dtype: int64\n"
     ]
    }
   ],
   "execution_count": 33
  },
  {
   "metadata": {
    "ExecuteTime": {
     "end_time": "2025-06-21T11:16:02.395587Z",
     "start_time": "2025-06-21T11:16:02.358456Z"
    }
   },
   "cell_type": "code",
   "source": [
    "puerta_calle = df_locales[df_locales['id_tipo_acceso_local'] == 1]\n",
    "print(puerta_calle[['coordenada_x_agrupacion', 'id_planta_agrupado']].isnull().sum())"
   ],
   "id": "479d5298f58784fd",
   "outputs": [
    {
     "name": "stdout",
     "output_type": "stream",
     "text": [
      "coordenada_x_agrupacion    134010\n",
      "id_planta_agrupado             12\n",
      "dtype: int64\n"
     ]
    }
   ],
   "execution_count": 34
  },
  {
   "metadata": {},
   "cell_type": "markdown",
   "source": "**Se va a poner un valor meramente orientativo para rellenar los campos que contienen valores Nulos, con el fin de que a futuro el consumidor obtenga los datos depurados y listos para el consumo**",
   "id": "d21a8b2fdf860b60"
  },
  {
   "metadata": {
    "ExecuteTime": {
     "end_time": "2025-06-21T11:32:01.288944Z",
     "start_time": "2025-06-21T11:32:01.216013Z"
    }
   },
   "cell_type": "code",
   "source": [
    "# Coordenadas de agrupación (float)\n",
    "df_locales['coordenada_x_agrupacion'] = df_locales['coordenada_x_agrupacion'].fillna(0.0)\n",
    "df_locales['coordenada_y_agrupacion'] = df_locales['coordenada_y_agrupacion'].fillna(0.0)\n",
    "\n",
    "# Plantas y números de local (int)\n",
    "df_locales['id_planta_agrupado'] = df_locales['id_planta_agrupado'].fillna(-99)  # Código especial\n",
    "df_locales['id_local_agrupado'] = df_locales['id_local_agrupado'].fillna(-99)\n",
    "\n",
    "# Horarios (asumiendo formato \"hh:mm:ss\")\n",
    "df_locales['hora_apertura1'] = df_locales['hora_apertura1'].fillna('00:00:00')\n",
    "df_locales['hora_apertura2'] = df_locales['hora_apertura2'].fillna('00:00:00')\n",
    "\n",
    "# Relleno de horarios de cierre (asumiendo formato string \"HH:MM:SS\")\n",
    "df_locales['hora_cierre1'] = df_locales['hora_cierre1'].fillna('00:00:00')\n",
    "df_locales['hora_cierre2'] = df_locales['hora_cierre2'].fillna('00:00:00')"
   ],
   "id": "13d55790351c376c",
   "outputs": [],
   "execution_count": 38
  },
  {
   "metadata": {
    "ExecuteTime": {
     "end_time": "2025-06-21T11:32:44.126600Z",
     "start_time": "2025-06-21T11:32:44.014799Z"
    }
   },
   "cell_type": "code",
   "source": [
    "#COMPROBACIÓN FINAL DE NULOS\n",
    "print(df_locales.isnull().sum())"
   ],
   "id": "fb6c703b93eaf499",
   "outputs": [
    {
     "name": "stdout",
     "output_type": "stream",
     "text": [
      "id_local                     0\n",
      "id_distrito_local            0\n",
      "desc_distrito_local          0\n",
      "id_barrio_local              0\n",
      "desc_barrio_local            0\n",
      "cod_barrio_local             0\n",
      "id_seccion_censal_local      0\n",
      "desc_seccion_censal_local    0\n",
      "coordenada_x_local           0\n",
      "coordenada_y_local           0\n",
      "id_tipo_acceso_local         0\n",
      "desc_tipo_acceso_local       0\n",
      "id_situacion_local           0\n",
      "desc_situacion_local         0\n",
      "id_vial_edificio             0\n",
      "clase_vial_edificio          0\n",
      "desc_vial_edificio           0\n",
      "id_ndp_edificio              0\n",
      "id_clase_ndp_edificio        0\n",
      "nom_edificio                 0\n",
      "num_edificio                 0\n",
      "cal_edificio                 0\n",
      "secuencial_local_PC          0\n",
      "id_vial_acceso               0\n",
      "clase_vial_acceso            0\n",
      "desc_vial_acceso             0\n",
      "id_ndp_acceso                0\n",
      "id_clase_ndp_acceso          0\n",
      "nom_acceso                   0\n",
      "num_acceso                   0\n",
      "cal_acceso                   0\n",
      "coordenada_x_agrupacion      0\n",
      "coordenada_y_agrupacion      0\n",
      "id_agrupacion                0\n",
      "nombre_agrupacion            0\n",
      "id_tipo_agrup                0\n",
      "desc_tipo_agrup              0\n",
      "id_planta_agrupado           0\n",
      "id_local_agrupado            0\n",
      "rotulo                       0\n",
      "cod_postal                   0\n",
      "hora_apertura1               0\n",
      "hora_apertura2               0\n",
      "hora_cierre1                 0\n",
      "hora_cierre2                 0\n",
      "fx_carga                     0\n",
      "fx_datos_ini                 0\n",
      "fx_datos_fin                 0\n",
      "dtype: int64\n"
     ]
    }
   ],
   "execution_count": 40
  }
 ],
 "metadata": {
  "kernelspec": {
   "display_name": "Python 3",
   "language": "python",
   "name": "python3"
  },
  "language_info": {
   "codemirror_mode": {
    "name": "ipython",
    "version": 2
   },
   "file_extension": ".py",
   "mimetype": "text/x-python",
   "name": "python",
   "nbconvert_exporter": "python",
   "pygments_lexer": "ipython2",
   "version": "2.7.6"
  }
 },
 "nbformat": 4,
 "nbformat_minor": 5
}
