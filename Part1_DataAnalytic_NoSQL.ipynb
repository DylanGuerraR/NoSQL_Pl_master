{
 "cells": [
  {
   "metadata": {},
   "cell_type": "markdown",
   "source": "# PART1",
   "id": "d2333a93788de037"
  },
  {
   "metadata": {},
   "cell_type": "markdown",
   "source": [
    "## 1. ESTUDIO PREVIO DE LOS ARCHIVOS\n",
    "En este apartado se realizarán comprobaciones para verificar que la información sobre los campos dada en los PDFs es correcta.\n",
    "Por ejemplo, el archivo 'actividadeseconomicas' puede tener campos repetidos, es decir, que ya se encuentran en el archivo 'locales'. Por lo que sería bastante eficiente eliminar esos campos duplicados, los cuales pueden ser unidos por su clave foranea ID_LOCAL en el futuro.\n",
    "Esto proporcionaría velocidad de consulta , ahorro de espacio y de computo a futuro."
   ],
   "id": "98d47359c1c5fdfb"
  },
  {
   "metadata": {
    "ExecuteTime": {
     "end_time": "2025-06-21T10:02:35.876248Z",
     "start_time": "2025-06-21T10:02:35.679232Z"
    }
   },
   "cell_type": "code",
   "source": [
    "#------------Dependencies-----------#\n",
    "import pandas as pd\n",
    "import numpy as np\n",
    "import os"
   ],
   "id": "631574cb81de5b47",
   "outputs": [],
   "execution_count": 2
  },
  {
   "metadata": {
    "ExecuteTime": {
     "end_time": "2025-06-21T10:02:35.879350Z",
     "start_time": "2025-06-21T10:02:35.877262Z"
    }
   },
   "cell_type": "code",
   "source": [
    "#Path to files\n",
    "path_actividad = \"data_files/actividadeconomica202312.csv\"\n",
    "path_licencias = \"data_files/licencias202312.csv\"\n",
    "path_locales = \"data_files/locales202312.csv\"\n",
    "path_terrazas = \"data_files/terrazas202312.csv\"\n"
   ],
   "id": "efab0152c0d51d1f",
   "outputs": [],
   "execution_count": 3
  },
  {
   "metadata": {},
   "cell_type": "markdown",
   "source": "**Dataframe creation 'Actividad Economica'**",
   "id": "6b06578ecf6671eb"
  },
  {
   "metadata": {
    "ExecuteTime": {
     "end_time": "2025-06-21T10:02:40.042306Z",
     "start_time": "2025-06-21T10:02:35.880085Z"
    }
   },
   "cell_type": "code",
   "source": [
    "df_actividad = pd.read_csv(\n",
    "    path_actividad,\n",
    "    sep = \";\",\n",
    "    skip_blank_lines = True,\n",
    "    on_bad_lines = 'skip',\n",
    "    engine = 'python',\n",
    "    encoding = 'utf-8'\n",
    ")"
   ],
   "id": "977bec0cf468530b",
   "outputs": [],
   "execution_count": 4
  },
  {
   "metadata": {},
   "cell_type": "markdown",
   "source": "**Dataframe creation 'Licencias'**",
   "id": "3810fe311b6a5b5a"
  },
  {
   "metadata": {
    "ExecuteTime": {
     "end_time": "2025-06-21T10:02:43.795995Z",
     "start_time": "2025-06-21T10:02:40.043707Z"
    }
   },
   "cell_type": "code",
   "source": "df_licencias = pd.read_csv(path_actividad,sep = \";\",skip_blank_lines = True,on_bad_lines = 'skip',engine = 'python',  encoding = 'utf-8')",
   "id": "7500a045917de4b3",
   "outputs": [],
   "execution_count": 5
  },
  {
   "metadata": {},
   "cell_type": "markdown",
   "source": "**Dataframe creation 'Locales'**",
   "id": "636b69708e2ef5a2"
  },
  {
   "metadata": {
    "ExecuteTime": {
     "end_time": "2025-06-21T10:02:47.003163Z",
     "start_time": "2025-06-21T10:02:43.796712Z"
    }
   },
   "cell_type": "code",
   "source": "df_locales = pd.read_csv(path_locales,sep = \";\",skip_blank_lines = True,on_bad_lines = 'skip',engine = 'python',  encoding = 'utf-8')",
   "id": "e32bc697ef9b52cd",
   "outputs": [],
   "execution_count": 6
  },
  {
   "metadata": {},
   "cell_type": "markdown",
   "source": "**Dataframe creation 'Terrazas'**",
   "id": "f58e8759237bae78"
  },
  {
   "metadata": {
    "ExecuteTime": {
     "end_time": "2025-06-21T10:02:47.160583Z",
     "start_time": "2025-06-21T10:02:47.003912Z"
    }
   },
   "cell_type": "code",
   "source": "df_terrazas = pd.read_csv(path_terrazas,sep = \";\",skip_blank_lines = True,on_bad_lines = 'skip',engine = 'python',  encoding = 'utf-8')",
   "id": "63cf3e327b085b76",
   "outputs": [],
   "execution_count": 7
  },
  {
   "metadata": {},
   "cell_type": "markdown",
   "source": "## 1.1 CAMPOS DUPLICADOS",
   "id": "953b472683563053"
  },
  {
   "metadata": {},
   "cell_type": "markdown",
   "source": "**Locales vs Actividades**",
   "id": "ea1abee1eecd19fb"
  },
  {
   "metadata": {
    "ExecuteTime": {
     "end_time": "2025-06-21T10:02:47.172706Z",
     "start_time": "2025-06-21T10:02:47.161318Z"
    }
   },
   "cell_type": "code",
   "source": [
    "#Query por 'id_local'\n",
    "resultado = df_locales.query(\"id_local == 20000756\")\n",
    "resultado.id_local,resultado.coordenada_y_local,resultado.id_tipo_acceso_local,resultado.id_tipo_acceso_local"
   ],
   "id": "5441a3b17d6fbbad",
   "outputs": [
    {
     "data": {
      "text/plain": [
       "(6    20000756\n",
       " Name: id_local, dtype: int64,\n",
       " 6    4472755.5\n",
       " Name: coordenada_y_local, dtype: float64,\n",
       " 6    1\n",
       " Name: id_tipo_acceso_local, dtype: int64,\n",
       " 6    1\n",
       " Name: id_tipo_acceso_local, dtype: int64)"
      ]
     },
     "execution_count": 8,
     "metadata": {},
     "output_type": "execute_result"
    }
   ],
   "execution_count": 8
  },
  {
   "metadata": {
    "ExecuteTime": {
     "end_time": "2025-06-21T10:02:47.182402Z",
     "start_time": "2025-06-21T10:02:47.173563Z"
    }
   },
   "cell_type": "code",
   "source": [
    "#Query por 'id_local'\n",
    "resultado = df_actividad.query(\"id_local == 20000756\")\n",
    "resultado.id_local,resultado.coordenada_y_local,resultado.id_tipo_acceso_local,resultado.id_tipo_acceso_local"
   ],
   "id": "a235473fba30a737",
   "outputs": [
    {
     "data": {
      "text/plain": [
       "(6515    20000756\n",
       " Name: id_local, dtype: int64,\n",
       " 6515    4472755.5\n",
       " Name: coordenada_y_local, dtype: float64,\n",
       " 6515    1\n",
       " Name: id_tipo_acceso_local, dtype: int64,\n",
       " 6515    1\n",
       " Name: id_tipo_acceso_local, dtype: int64)"
      ]
     },
     "execution_count": 9,
     "metadata": {},
     "output_type": "execute_result"
    }
   ],
   "execution_count": 9
  },
  {
   "metadata": {
    "ExecuteTime": {
     "end_time": "2025-06-21T10:02:47.191972Z",
     "start_time": "2025-06-21T10:02:47.183118Z"
    }
   },
   "cell_type": "code",
   "source": [
    "#Query por 'id_local'\n",
    "resultado = df_terrazas.query(\"id_local == 20000756\")\n",
    "resultado.id_local,resultado.coordenada_y_local,resultado.id_tipo_acceso_local,resultado.id_tipo_acceso_local"
   ],
   "id": "c25a2a7409a4b780",
   "outputs": [
    {
     "data": {
      "text/plain": [
       "(5471    20000756\n",
       " Name: id_local, dtype: int64,\n",
       " 5471    4472755.5\n",
       " Name: coordenada_y_local, dtype: float64,\n",
       " 5471    1\n",
       " Name: id_tipo_acceso_local, dtype: int64,\n",
       " 5471    1\n",
       " Name: id_tipo_acceso_local, dtype: int64)"
      ]
     },
     "execution_count": 10,
     "metadata": {},
     "output_type": "execute_result"
    }
   ],
   "execution_count": 10
  },
  {
   "metadata": {},
   "cell_type": "markdown",
   "source": [
    "**Como se puede comprobar hay campos que tienen los datos repetidos en ambos archivos por lo que la información descrita en los PDFs es veraz**\n",
    "Lo que plantearé será dejar el dataframe \"locales\" como el archivo maestro y luego eliminaré de los demás archivos las dimensiones que posean datos repetidos, así solo quedarán los campos con información limpia y quedarán las futuras colecciones mejor estructuradas.\n",
    "\n",
    "En el caso en que se quieran realizar consultas de union de tablas el ID **id_local** servirá con clave foranea en las demás tablas."
   ],
   "id": "813787c81ad901e6"
  },
  {
   "metadata": {},
   "cell_type": "markdown",
   "source": "**Eliminacion de columnas con información duplicadas**",
   "id": "4264feecfee6da56"
  },
  {
   "metadata": {
    "ExecuteTime": {
     "end_time": "2025-06-21T10:02:47.236032Z",
     "start_time": "2025-06-21T10:02:47.193192Z"
    }
   },
   "cell_type": "code",
   "source": [
    "# 1. DataFrame de Locales (fuente principal)\n",
    "# No hacemos cambios en df_locales\n",
    "\n",
    "# 2. DataFrame de Actividades\n",
    "# Mantener solo campos únicos de actividades\n",
    "columnas_actividades = [\n",
    "    'id_local',  # clave de unión\n",
    "    'id_seccion', 'desc_seccion', 'id_division', 'desc_division',\n",
    "    'id_epigrafe', 'desc_epigrafe'\n",
    "]\n",
    "df_actividad = df_actividad[columnas_actividades]\n",
    "\n",
    "# 3. DataFrame de Licencias\n",
    "# Mantener solo campos únicos de licencias (pero no aparecen en el índice proporcionado)\n",
    "# Asumimos que deberían estar estas columnas basadas en los PDFs:\n",
    "columnas_licencias = [\n",
    "    'id_local',  # clave de unión\n",
    "    'ref_licencia', 'id_tipo_licencia', 'desc_tipo_licencia',\n",
    "    'ide_tipo_situacion_licencia', 'desc_tipo_situacion_licencia',\n",
    "    'Fecha_Dec_Lic'\n",
    "]\n",
    "# Filtramos solo las columnas que existan realmente\n",
    "columnas_licencias = [col for col in columnas_licencias if col in df_licencias.columns]\n",
    "df_licencias = df_licencias[columnas_licencias] if columnas_licencias else df_licencias[['id_local']]\n",
    "\n",
    "# 4. DataFrame de Terrazas\n",
    "# Mantener solo campos únicos de terrazas\n",
    "columnas_terrazas = [\n",
    "    'id_terraza', 'id_local',  # claves\n",
    "    'Superficie_ES', 'Superficie_RA', 'mesas_aux_es', 'mesas_aux_ra',\n",
    "    'mesas_es', 'mesas_ra', 'sillas_es', 'sillas_ra', 'hora_ini_LJ_es',\n",
    "    'hora_fin_LJ_es', 'hora_ini_LJ_ra', 'hora_fin_LJ_ra', 'hora_ini_VS_es',\n",
    "    'hora_fin_VS_es', 'hora_ini_VS_ra', 'hora_fin_VS_ra',\n",
    "    'desc_ubicacion_terraza', 'id_periodo_terraza', 'desc_periodo_terraza',\n",
    "    'id_situacion_terraza', 'desc_situacion_terraza'\n",
    "]\n",
    "df_terrazas = df_terrazas[columnas_terrazas]\n",
    "\n",
    "# Columnas de metadatos que podríamos querer conservar\n",
    "columnas_metadatos = ['fx_carga', 'fx_datos_ini', 'fx_datos_fin']\n",
    "\n",
    "# Añadir metadatos a cada DataFrame si existen\n",
    "for df in [df_actividad, df_licencias, df_terrazas]:\n",
    "    for col in columnas_metadatos:\n",
    "        if col in df.columns:\n",
    "            df[col] = df[col]"
   ],
   "id": "f70a3a68311bd761",
   "outputs": [],
   "execution_count": 11
  },
  {
   "metadata": {},
   "cell_type": "markdown",
   "source": "## 1.2 Limpieza y análisis de los DF",
   "id": "c05bc1a794fdb833"
  },
  {
   "metadata": {},
   "cell_type": "markdown",
   "source": "**DF_LOCALES**",
   "id": "1be5a4999eec27f7"
  },
  {
   "metadata": {
    "ExecuteTime": {
     "end_time": "2025-06-21T10:03:37.857038Z",
     "start_time": "2025-06-21T10:03:37.775976Z"
    }
   },
   "cell_type": "code",
   "source": "df_locales.describe()",
   "id": "2255d9ad61873c91",
   "outputs": [
    {
     "data": {
      "text/plain": [
       "           id_local  id_distrito_local  id_barrio_local  cod_barrio_local  \\\n",
       "count  1.511620e+05      151162.000000    151162.000000     151162.000000   \n",
       "mean   2.655094e+08           9.939661       997.419001          3.452925   \n",
       "std    5.016712e+07           5.625185       562.402277          1.862671   \n",
       "min    1.000000e+07           1.000000       101.000000          1.000000   \n",
       "25%    2.704840e+08           5.000000       505.000000          2.000000   \n",
       "50%    2.800378e+08          10.000000      1004.000000          3.000000   \n",
       "75%    2.850114e+08          15.000000      1501.000000          5.000000   \n",
       "max    3.000220e+08          21.000000      2105.000000          9.000000   \n",
       "\n",
       "       id_seccion_censal_local  desc_seccion_censal_local  coordenada_x_local  \\\n",
       "count            151162.000000              151162.000000       151162.000000   \n",
       "mean              10011.069158                  71.408396       399836.581200   \n",
       "std                5626.998295                  48.532575       129534.909558   \n",
       "min                1001.000000                   1.000000            0.000000   \n",
       "25%                5085.000000                  32.000000       439092.600000   \n",
       "50%               10137.000000                  65.000000       440758.600000   \n",
       "75%               15041.000000                 104.000000       443691.620000   \n",
       "max               21034.000000                 222.000000       454736.530000   \n",
       "\n",
       "       coordenada_y_local  id_tipo_acceso_local  id_situacion_local  ...  \\\n",
       "count        1.511620e+05         151162.000000       151162.000000  ...   \n",
       "mean         4.049711e+06              1.096982            2.287493  ...   \n",
       "std          1.311569e+06              1.486127            2.003236  ...   \n",
       "min          0.000000e+00              0.000000            1.000000  ...   \n",
       "25%          4.470752e+06              1.000000            1.000000  ...   \n",
       "50%          4.473638e+06              1.000000            1.000000  ...   \n",
       "75%          4.476700e+06              1.000000            4.000000  ...   \n",
       "max          4.495496e+06             12.000000           10.000000  ...   \n",
       "\n",
       "       secuencial_local_PC  id_vial_acceso  id_ndp_acceso  \\\n",
       "count        151162.000000    1.511620e+05   1.511620e+05   \n",
       "mean             22.690491    5.615678e+06   1.473663e+07   \n",
       "std              65.050187    1.979993e+07   6.694123e+06   \n",
       "min               0.000000    1.270000e+02   1.100000e+07   \n",
       "25%              10.000000    2.244000e+05   1.103422e+07   \n",
       "50%              10.000000    4.322000e+05   1.108596e+07   \n",
       "75%              20.000000    6.511000e+05   2.000951e+07   \n",
       "max            9010.000000    8.895311e+07   3.107177e+07   \n",
       "\n",
       "       id_clase_ndp_acceso     num_acceso  coordenada_x_agrupacion  \\\n",
       "count             151162.0  151162.000000             14501.000000   \n",
       "mean                   1.0      42.168978            393972.972789   \n",
       "std                    0.0      94.405255            138115.023079   \n",
       "min                    1.0       1.000000                 0.000000   \n",
       "25%                    1.0       8.000000            438973.620000   \n",
       "50%                    1.0      20.000000            441296.600000   \n",
       "75%                    1.0      46.000000            444449.560000   \n",
       "max                    1.0    5090.000000            452667.560000   \n",
       "\n",
       "       coordenada_y_agrupacion  id_agrupacion  id_tipo_agrup     cod_postal  \n",
       "count             1.450100e+04   1.511620e+05  151162.000000  151162.000000  \n",
       "mean              3.984938e+06   9.497111e+06      -0.224084   28025.110689  \n",
       "std               1.396506e+06   2.915522e+07       2.928384      14.277943  \n",
       "min               0.000000e+00  -1.000000e+00      -1.000000   28001.000000  \n",
       "25%               4.469252e+06  -1.000000e+00      -1.000000   28014.000000  \n",
       "50%               4.473220e+06  -1.000000e+00      -1.000000   28025.000000  \n",
       "75%               4.477306e+06  -1.000000e+00      -1.000000   28037.000000  \n",
       "max               4.488548e+06   9.900073e+07      17.000000   28055.000000  \n",
       "\n",
       "[8 rows x 24 columns]"
      ],
      "text/html": [
       "<div>\n",
       "<style scoped>\n",
       "    .dataframe tbody tr th:only-of-type {\n",
       "        vertical-align: middle;\n",
       "    }\n",
       "\n",
       "    .dataframe tbody tr th {\n",
       "        vertical-align: top;\n",
       "    }\n",
       "\n",
       "    .dataframe thead th {\n",
       "        text-align: right;\n",
       "    }\n",
       "</style>\n",
       "<table border=\"1\" class=\"dataframe\">\n",
       "  <thead>\n",
       "    <tr style=\"text-align: right;\">\n",
       "      <th></th>\n",
       "      <th>id_local</th>\n",
       "      <th>id_distrito_local</th>\n",
       "      <th>id_barrio_local</th>\n",
       "      <th>cod_barrio_local</th>\n",
       "      <th>id_seccion_censal_local</th>\n",
       "      <th>desc_seccion_censal_local</th>\n",
       "      <th>coordenada_x_local</th>\n",
       "      <th>coordenada_y_local</th>\n",
       "      <th>id_tipo_acceso_local</th>\n",
       "      <th>id_situacion_local</th>\n",
       "      <th>...</th>\n",
       "      <th>secuencial_local_PC</th>\n",
       "      <th>id_vial_acceso</th>\n",
       "      <th>id_ndp_acceso</th>\n",
       "      <th>id_clase_ndp_acceso</th>\n",
       "      <th>num_acceso</th>\n",
       "      <th>coordenada_x_agrupacion</th>\n",
       "      <th>coordenada_y_agrupacion</th>\n",
       "      <th>id_agrupacion</th>\n",
       "      <th>id_tipo_agrup</th>\n",
       "      <th>cod_postal</th>\n",
       "    </tr>\n",
       "  </thead>\n",
       "  <tbody>\n",
       "    <tr>\n",
       "      <th>count</th>\n",
       "      <td>1.511620e+05</td>\n",
       "      <td>151162.000000</td>\n",
       "      <td>151162.000000</td>\n",
       "      <td>151162.000000</td>\n",
       "      <td>151162.000000</td>\n",
       "      <td>151162.000000</td>\n",
       "      <td>151162.000000</td>\n",
       "      <td>1.511620e+05</td>\n",
       "      <td>151162.000000</td>\n",
       "      <td>151162.000000</td>\n",
       "      <td>...</td>\n",
       "      <td>151162.000000</td>\n",
       "      <td>1.511620e+05</td>\n",
       "      <td>1.511620e+05</td>\n",
       "      <td>151162.0</td>\n",
       "      <td>151162.000000</td>\n",
       "      <td>14501.000000</td>\n",
       "      <td>1.450100e+04</td>\n",
       "      <td>1.511620e+05</td>\n",
       "      <td>151162.000000</td>\n",
       "      <td>151162.000000</td>\n",
       "    </tr>\n",
       "    <tr>\n",
       "      <th>mean</th>\n",
       "      <td>2.655094e+08</td>\n",
       "      <td>9.939661</td>\n",
       "      <td>997.419001</td>\n",
       "      <td>3.452925</td>\n",
       "      <td>10011.069158</td>\n",
       "      <td>71.408396</td>\n",
       "      <td>399836.581200</td>\n",
       "      <td>4.049711e+06</td>\n",
       "      <td>1.096982</td>\n",
       "      <td>2.287493</td>\n",
       "      <td>...</td>\n",
       "      <td>22.690491</td>\n",
       "      <td>5.615678e+06</td>\n",
       "      <td>1.473663e+07</td>\n",
       "      <td>1.0</td>\n",
       "      <td>42.168978</td>\n",
       "      <td>393972.972789</td>\n",
       "      <td>3.984938e+06</td>\n",
       "      <td>9.497111e+06</td>\n",
       "      <td>-0.224084</td>\n",
       "      <td>28025.110689</td>\n",
       "    </tr>\n",
       "    <tr>\n",
       "      <th>std</th>\n",
       "      <td>5.016712e+07</td>\n",
       "      <td>5.625185</td>\n",
       "      <td>562.402277</td>\n",
       "      <td>1.862671</td>\n",
       "      <td>5626.998295</td>\n",
       "      <td>48.532575</td>\n",
       "      <td>129534.909558</td>\n",
       "      <td>1.311569e+06</td>\n",
       "      <td>1.486127</td>\n",
       "      <td>2.003236</td>\n",
       "      <td>...</td>\n",
       "      <td>65.050187</td>\n",
       "      <td>1.979993e+07</td>\n",
       "      <td>6.694123e+06</td>\n",
       "      <td>0.0</td>\n",
       "      <td>94.405255</td>\n",
       "      <td>138115.023079</td>\n",
       "      <td>1.396506e+06</td>\n",
       "      <td>2.915522e+07</td>\n",
       "      <td>2.928384</td>\n",
       "      <td>14.277943</td>\n",
       "    </tr>\n",
       "    <tr>\n",
       "      <th>min</th>\n",
       "      <td>1.000000e+07</td>\n",
       "      <td>1.000000</td>\n",
       "      <td>101.000000</td>\n",
       "      <td>1.000000</td>\n",
       "      <td>1001.000000</td>\n",
       "      <td>1.000000</td>\n",
       "      <td>0.000000</td>\n",
       "      <td>0.000000e+00</td>\n",
       "      <td>0.000000</td>\n",
       "      <td>1.000000</td>\n",
       "      <td>...</td>\n",
       "      <td>0.000000</td>\n",
       "      <td>1.270000e+02</td>\n",
       "      <td>1.100000e+07</td>\n",
       "      <td>1.0</td>\n",
       "      <td>1.000000</td>\n",
       "      <td>0.000000</td>\n",
       "      <td>0.000000e+00</td>\n",
       "      <td>-1.000000e+00</td>\n",
       "      <td>-1.000000</td>\n",
       "      <td>28001.000000</td>\n",
       "    </tr>\n",
       "    <tr>\n",
       "      <th>25%</th>\n",
       "      <td>2.704840e+08</td>\n",
       "      <td>5.000000</td>\n",
       "      <td>505.000000</td>\n",
       "      <td>2.000000</td>\n",
       "      <td>5085.000000</td>\n",
       "      <td>32.000000</td>\n",
       "      <td>439092.600000</td>\n",
       "      <td>4.470752e+06</td>\n",
       "      <td>1.000000</td>\n",
       "      <td>1.000000</td>\n",
       "      <td>...</td>\n",
       "      <td>10.000000</td>\n",
       "      <td>2.244000e+05</td>\n",
       "      <td>1.103422e+07</td>\n",
       "      <td>1.0</td>\n",
       "      <td>8.000000</td>\n",
       "      <td>438973.620000</td>\n",
       "      <td>4.469252e+06</td>\n",
       "      <td>-1.000000e+00</td>\n",
       "      <td>-1.000000</td>\n",
       "      <td>28014.000000</td>\n",
       "    </tr>\n",
       "    <tr>\n",
       "      <th>50%</th>\n",
       "      <td>2.800378e+08</td>\n",
       "      <td>10.000000</td>\n",
       "      <td>1004.000000</td>\n",
       "      <td>3.000000</td>\n",
       "      <td>10137.000000</td>\n",
       "      <td>65.000000</td>\n",
       "      <td>440758.600000</td>\n",
       "      <td>4.473638e+06</td>\n",
       "      <td>1.000000</td>\n",
       "      <td>1.000000</td>\n",
       "      <td>...</td>\n",
       "      <td>10.000000</td>\n",
       "      <td>4.322000e+05</td>\n",
       "      <td>1.108596e+07</td>\n",
       "      <td>1.0</td>\n",
       "      <td>20.000000</td>\n",
       "      <td>441296.600000</td>\n",
       "      <td>4.473220e+06</td>\n",
       "      <td>-1.000000e+00</td>\n",
       "      <td>-1.000000</td>\n",
       "      <td>28025.000000</td>\n",
       "    </tr>\n",
       "    <tr>\n",
       "      <th>75%</th>\n",
       "      <td>2.850114e+08</td>\n",
       "      <td>15.000000</td>\n",
       "      <td>1501.000000</td>\n",
       "      <td>5.000000</td>\n",
       "      <td>15041.000000</td>\n",
       "      <td>104.000000</td>\n",
       "      <td>443691.620000</td>\n",
       "      <td>4.476700e+06</td>\n",
       "      <td>1.000000</td>\n",
       "      <td>4.000000</td>\n",
       "      <td>...</td>\n",
       "      <td>20.000000</td>\n",
       "      <td>6.511000e+05</td>\n",
       "      <td>2.000951e+07</td>\n",
       "      <td>1.0</td>\n",
       "      <td>46.000000</td>\n",
       "      <td>444449.560000</td>\n",
       "      <td>4.477306e+06</td>\n",
       "      <td>-1.000000e+00</td>\n",
       "      <td>-1.000000</td>\n",
       "      <td>28037.000000</td>\n",
       "    </tr>\n",
       "    <tr>\n",
       "      <th>max</th>\n",
       "      <td>3.000220e+08</td>\n",
       "      <td>21.000000</td>\n",
       "      <td>2105.000000</td>\n",
       "      <td>9.000000</td>\n",
       "      <td>21034.000000</td>\n",
       "      <td>222.000000</td>\n",
       "      <td>454736.530000</td>\n",
       "      <td>4.495496e+06</td>\n",
       "      <td>12.000000</td>\n",
       "      <td>10.000000</td>\n",
       "      <td>...</td>\n",
       "      <td>9010.000000</td>\n",
       "      <td>8.895311e+07</td>\n",
       "      <td>3.107177e+07</td>\n",
       "      <td>1.0</td>\n",
       "      <td>5090.000000</td>\n",
       "      <td>452667.560000</td>\n",
       "      <td>4.488548e+06</td>\n",
       "      <td>9.900073e+07</td>\n",
       "      <td>17.000000</td>\n",
       "      <td>28055.000000</td>\n",
       "    </tr>\n",
       "  </tbody>\n",
       "</table>\n",
       "<p>8 rows × 24 columns</p>\n",
       "</div>"
      ]
     },
     "execution_count": 12,
     "metadata": {},
     "output_type": "execute_result"
    }
   ],
   "execution_count": 12
  }
 ],
 "metadata": {
  "kernelspec": {
   "display_name": "Python 3",
   "language": "python",
   "name": "python3"
  },
  "language_info": {
   "codemirror_mode": {
    "name": "ipython",
    "version": 2
   },
   "file_extension": ".py",
   "mimetype": "text/x-python",
   "name": "python",
   "nbconvert_exporter": "python",
   "pygments_lexer": "ipython2",
   "version": "2.7.6"
  }
 },
 "nbformat": 4,
 "nbformat_minor": 5
}
